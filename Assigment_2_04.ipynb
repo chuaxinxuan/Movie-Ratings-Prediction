{
  "nbformat": 4,
  "nbformat_minor": 0,
  "metadata": {
    "colab": {
      "name": "Assigment2_JY.ipynb",
      "provenance": [],
      "collapsed_sections": [],
      "toc_visible": true
    },
    "kernelspec": {
      "name": "python3",
      "display_name": "Python 3"
    },
    "language_info": {
      "name": "python"
    }
  },
  "cells": [
    {
      "cell_type": "code",
      "source": [
        "import pandas as pd\n",
        "import numpy as np\n",
        "import math\n",
        "from sklearn.model_selection import train_test_split\n",
        "from sklearn.metrics.pairwise import cosine_similarity\n",
        "from sklearn.metrics.pairwise import nan_euclidean_distances\n"
      ],
      "metadata": {
        "id": "1BpEm4-9aM6U"
      },
      "execution_count": 1,
      "outputs": []
    },
    {
      "cell_type": "code",
      "source": [
        "# mount drive to access files\n",
        "from google.colab import drive\n",
        "drive.mount('/content/drive')"
      ],
      "metadata": {
        "colab": {
          "base_uri": "https://localhost:8080/"
        },
        "id": "UScMFjVQaDE_",
        "outputId": "d8e6f544-0223-457a-cc33-c6bcbcb86de3"
      },
      "execution_count": 2,
      "outputs": [
        {
          "output_type": "stream",
          "name": "stdout",
          "text": [
            "Mounted at /content/drive\n"
          ]
        }
      ]
    },
    {
      "cell_type": "code",
      "execution_count": 3,
      "metadata": {
        "id": "dXa_t0TbZuBB"
      },
      "outputs": [],
      "source": [
        "data = pd.read_csv('/content/drive/MyDrive/DSA4212/dataset/ratings.dat', header = None, sep='::', engine = 'python', encoding='ISO-8859-1', names = ['UserIDs', 'MovieIDs', 'Ratings', 'Timestamp'])"
      ]
    },
    {
      "cell_type": "code",
      "source": [
        "train, test = train_test_split(data, test_size=0.1, random_state=1)\n",
        "\n",
        "print('Number of obseravtions in the original dataset: ', len(data))\n",
        "print('Number of obseravtions in the training dataset: ', len(train))\n",
        "print('Number of obseravtions in the testing dataset: ', len(test))"
      ],
      "metadata": {
        "id": "aXiiAm9Wae2O",
        "colab": {
          "base_uri": "https://localhost:8080/"
        },
        "outputId": "d44fd1fb-fbb5-4204-fda6-f51173827d57"
      },
      "execution_count": 4,
      "outputs": [
        {
          "output_type": "stream",
          "name": "stdout",
          "text": [
            "Number of obseravtions in the original dataset:  1000209\n",
            "Number of obseravtions in the training dataset:  900188\n",
            "Number of obseravtions in the testing dataset:  100021\n"
          ]
        }
      ]
    },
    {
      "cell_type": "markdown",
      "source": [
        "# EDA"
      ],
      "metadata": {
        "id": "9ft3rojNLU-m"
      }
    },
    {
      "cell_type": "code",
      "source": [
        "train"
      ],
      "metadata": {
        "id": "1s3vEvWoavhT",
        "outputId": "7ffdf6e9-05aa-46a1-cf8f-b634bb3eacc8",
        "colab": {
          "base_uri": "https://localhost:8080/",
          "height": 423
        }
      },
      "execution_count": null,
      "outputs": [
        {
          "output_type": "execute_result",
          "data": {
            "text/plain": [
              "        UserIDs  MovieIDs  Ratings   Timestamp\n",
              "316448     1883      2020        3   974876148\n",
              "82748       549       930        5   976116072\n",
              "215642     1306      3510        3  1015051441\n",
              "148022      953      3911        5   975265409\n",
              "522854     3224      2599        4   968520931\n",
              "...         ...       ...      ...         ...\n",
              "491263     3020      1219        4   970511154\n",
              "791624     4732      1254        5   963636212\n",
              "470924     2899      2664        4   971920791\n",
              "491755     3025      1296        5   970464063\n",
              "128037      828      1381        2   975370768\n",
              "\n",
              "[900188 rows x 4 columns]"
            ],
            "text/html": [
              "\n",
              "  <div id=\"df-1e2b6cd7-47a2-4edd-b282-f254d9b25888\">\n",
              "    <div class=\"colab-df-container\">\n",
              "      <div>\n",
              "<style scoped>\n",
              "    .dataframe tbody tr th:only-of-type {\n",
              "        vertical-align: middle;\n",
              "    }\n",
              "\n",
              "    .dataframe tbody tr th {\n",
              "        vertical-align: top;\n",
              "    }\n",
              "\n",
              "    .dataframe thead th {\n",
              "        text-align: right;\n",
              "    }\n",
              "</style>\n",
              "<table border=\"1\" class=\"dataframe\">\n",
              "  <thead>\n",
              "    <tr style=\"text-align: right;\">\n",
              "      <th></th>\n",
              "      <th>UserIDs</th>\n",
              "      <th>MovieIDs</th>\n",
              "      <th>Ratings</th>\n",
              "      <th>Timestamp</th>\n",
              "    </tr>\n",
              "  </thead>\n",
              "  <tbody>\n",
              "    <tr>\n",
              "      <th>316448</th>\n",
              "      <td>1883</td>\n",
              "      <td>2020</td>\n",
              "      <td>3</td>\n",
              "      <td>974876148</td>\n",
              "    </tr>\n",
              "    <tr>\n",
              "      <th>82748</th>\n",
              "      <td>549</td>\n",
              "      <td>930</td>\n",
              "      <td>5</td>\n",
              "      <td>976116072</td>\n",
              "    </tr>\n",
              "    <tr>\n",
              "      <th>215642</th>\n",
              "      <td>1306</td>\n",
              "      <td>3510</td>\n",
              "      <td>3</td>\n",
              "      <td>1015051441</td>\n",
              "    </tr>\n",
              "    <tr>\n",
              "      <th>148022</th>\n",
              "      <td>953</td>\n",
              "      <td>3911</td>\n",
              "      <td>5</td>\n",
              "      <td>975265409</td>\n",
              "    </tr>\n",
              "    <tr>\n",
              "      <th>522854</th>\n",
              "      <td>3224</td>\n",
              "      <td>2599</td>\n",
              "      <td>4</td>\n",
              "      <td>968520931</td>\n",
              "    </tr>\n",
              "    <tr>\n",
              "      <th>...</th>\n",
              "      <td>...</td>\n",
              "      <td>...</td>\n",
              "      <td>...</td>\n",
              "      <td>...</td>\n",
              "    </tr>\n",
              "    <tr>\n",
              "      <th>491263</th>\n",
              "      <td>3020</td>\n",
              "      <td>1219</td>\n",
              "      <td>4</td>\n",
              "      <td>970511154</td>\n",
              "    </tr>\n",
              "    <tr>\n",
              "      <th>791624</th>\n",
              "      <td>4732</td>\n",
              "      <td>1254</td>\n",
              "      <td>5</td>\n",
              "      <td>963636212</td>\n",
              "    </tr>\n",
              "    <tr>\n",
              "      <th>470924</th>\n",
              "      <td>2899</td>\n",
              "      <td>2664</td>\n",
              "      <td>4</td>\n",
              "      <td>971920791</td>\n",
              "    </tr>\n",
              "    <tr>\n",
              "      <th>491755</th>\n",
              "      <td>3025</td>\n",
              "      <td>1296</td>\n",
              "      <td>5</td>\n",
              "      <td>970464063</td>\n",
              "    </tr>\n",
              "    <tr>\n",
              "      <th>128037</th>\n",
              "      <td>828</td>\n",
              "      <td>1381</td>\n",
              "      <td>2</td>\n",
              "      <td>975370768</td>\n",
              "    </tr>\n",
              "  </tbody>\n",
              "</table>\n",
              "<p>900188 rows × 4 columns</p>\n",
              "</div>\n",
              "      <button class=\"colab-df-convert\" onclick=\"convertToInteractive('df-1e2b6cd7-47a2-4edd-b282-f254d9b25888')\"\n",
              "              title=\"Convert this dataframe to an interactive table.\"\n",
              "              style=\"display:none;\">\n",
              "        \n",
              "  <svg xmlns=\"http://www.w3.org/2000/svg\" height=\"24px\"viewBox=\"0 0 24 24\"\n",
              "       width=\"24px\">\n",
              "    <path d=\"M0 0h24v24H0V0z\" fill=\"none\"/>\n",
              "    <path d=\"M18.56 5.44l.94 2.06.94-2.06 2.06-.94-2.06-.94-.94-2.06-.94 2.06-2.06.94zm-11 1L8.5 8.5l.94-2.06 2.06-.94-2.06-.94L8.5 2.5l-.94 2.06-2.06.94zm10 10l.94 2.06.94-2.06 2.06-.94-2.06-.94-.94-2.06-.94 2.06-2.06.94z\"/><path d=\"M17.41 7.96l-1.37-1.37c-.4-.4-.92-.59-1.43-.59-.52 0-1.04.2-1.43.59L10.3 9.45l-7.72 7.72c-.78.78-.78 2.05 0 2.83L4 21.41c.39.39.9.59 1.41.59.51 0 1.02-.2 1.41-.59l7.78-7.78 2.81-2.81c.8-.78.8-2.07 0-2.86zM5.41 20L4 18.59l7.72-7.72 1.47 1.35L5.41 20z\"/>\n",
              "  </svg>\n",
              "      </button>\n",
              "      \n",
              "  <style>\n",
              "    .colab-df-container {\n",
              "      display:flex;\n",
              "      flex-wrap:wrap;\n",
              "      gap: 12px;\n",
              "    }\n",
              "\n",
              "    .colab-df-convert {\n",
              "      background-color: #E8F0FE;\n",
              "      border: none;\n",
              "      border-radius: 50%;\n",
              "      cursor: pointer;\n",
              "      display: none;\n",
              "      fill: #1967D2;\n",
              "      height: 32px;\n",
              "      padding: 0 0 0 0;\n",
              "      width: 32px;\n",
              "    }\n",
              "\n",
              "    .colab-df-convert:hover {\n",
              "      background-color: #E2EBFA;\n",
              "      box-shadow: 0px 1px 2px rgba(60, 64, 67, 0.3), 0px 1px 3px 1px rgba(60, 64, 67, 0.15);\n",
              "      fill: #174EA6;\n",
              "    }\n",
              "\n",
              "    [theme=dark] .colab-df-convert {\n",
              "      background-color: #3B4455;\n",
              "      fill: #D2E3FC;\n",
              "    }\n",
              "\n",
              "    [theme=dark] .colab-df-convert:hover {\n",
              "      background-color: #434B5C;\n",
              "      box-shadow: 0px 1px 3px 1px rgba(0, 0, 0, 0.15);\n",
              "      filter: drop-shadow(0px 1px 2px rgba(0, 0, 0, 0.3));\n",
              "      fill: #FFFFFF;\n",
              "    }\n",
              "  </style>\n",
              "\n",
              "      <script>\n",
              "        const buttonEl =\n",
              "          document.querySelector('#df-1e2b6cd7-47a2-4edd-b282-f254d9b25888 button.colab-df-convert');\n",
              "        buttonEl.style.display =\n",
              "          google.colab.kernel.accessAllowed ? 'block' : 'none';\n",
              "\n",
              "        async function convertToInteractive(key) {\n",
              "          const element = document.querySelector('#df-1e2b6cd7-47a2-4edd-b282-f254d9b25888');\n",
              "          const dataTable =\n",
              "            await google.colab.kernel.invokeFunction('convertToInteractive',\n",
              "                                                     [key], {});\n",
              "          if (!dataTable) return;\n",
              "\n",
              "          const docLinkHtml = 'Like what you see? Visit the ' +\n",
              "            '<a target=\"_blank\" href=https://colab.research.google.com/notebooks/data_table.ipynb>data table notebook</a>'\n",
              "            + ' to learn more about interactive tables.';\n",
              "          element.innerHTML = '';\n",
              "          dataTable['output_type'] = 'display_data';\n",
              "          await google.colab.output.renderOutput(dataTable, element);\n",
              "          const docLink = document.createElement('div');\n",
              "          docLink.innerHTML = docLinkHtml;\n",
              "          element.appendChild(docLink);\n",
              "        }\n",
              "      </script>\n",
              "    </div>\n",
              "  </div>\n",
              "  "
            ]
          },
          "metadata": {},
          "execution_count": 5
        }
      ]
    },
    {
      "cell_type": "code",
      "source": [
        "train.info() # No Na"
      ],
      "metadata": {
        "id": "INpWmt3kawu-",
        "colab": {
          "base_uri": "https://localhost:8080/"
        },
        "outputId": "cb039f4e-66da-431e-ddf2-2a89bdeb1c9e"
      },
      "execution_count": null,
      "outputs": [
        {
          "output_type": "stream",
          "name": "stdout",
          "text": [
            "<class 'pandas.core.frame.DataFrame'>\n",
            "Int64Index: 900188 entries, 316448 to 128037\n",
            "Data columns (total 4 columns):\n",
            " #   Column     Non-Null Count   Dtype\n",
            "---  ------     --------------   -----\n",
            " 0   UserIDs    900188 non-null  int64\n",
            " 1   MovieIDs   900188 non-null  int64\n",
            " 2   Ratings    900188 non-null  int64\n",
            " 3   Timestamp  900188 non-null  int64\n",
            "dtypes: int64(4)\n",
            "memory usage: 34.3 MB\n"
          ]
        }
      ]
    },
    {
      "cell_type": "code",
      "source": [
        "train.describe()"
      ],
      "metadata": {
        "colab": {
          "base_uri": "https://localhost:8080/",
          "height": 300
        },
        "id": "o3BCn1ZFJ30x",
        "outputId": "d660d19a-3300-4a35-989f-52c105e27ea4"
      },
      "execution_count": null,
      "outputs": [
        {
          "output_type": "execute_result",
          "data": {
            "text/plain": [
              "             UserIDs       MovieIDs        Ratings     Timestamp\n",
              "count  900188.000000  900188.000000  900188.000000  9.001880e+05\n",
              "mean     3024.149099    1865.734558       3.581696  9.722426e+08\n",
              "std      1727.894528    1096.042156       1.117043  1.214420e+07\n",
              "min         1.000000       1.000000       1.000000  9.567039e+08\n",
              "25%      1507.000000    1030.000000       3.000000  9.653033e+08\n",
              "50%      3069.000000    1835.000000       4.000000  9.729898e+08\n",
              "75%      4473.000000    2770.000000       4.000000  9.752211e+08\n",
              "max      6040.000000    3952.000000       5.000000  1.046455e+09"
            ],
            "text/html": [
              "\n",
              "  <div id=\"df-180d887b-c71b-4714-af06-e24d044cd9cd\">\n",
              "    <div class=\"colab-df-container\">\n",
              "      <div>\n",
              "<style scoped>\n",
              "    .dataframe tbody tr th:only-of-type {\n",
              "        vertical-align: middle;\n",
              "    }\n",
              "\n",
              "    .dataframe tbody tr th {\n",
              "        vertical-align: top;\n",
              "    }\n",
              "\n",
              "    .dataframe thead th {\n",
              "        text-align: right;\n",
              "    }\n",
              "</style>\n",
              "<table border=\"1\" class=\"dataframe\">\n",
              "  <thead>\n",
              "    <tr style=\"text-align: right;\">\n",
              "      <th></th>\n",
              "      <th>UserIDs</th>\n",
              "      <th>MovieIDs</th>\n",
              "      <th>Ratings</th>\n",
              "      <th>Timestamp</th>\n",
              "    </tr>\n",
              "  </thead>\n",
              "  <tbody>\n",
              "    <tr>\n",
              "      <th>count</th>\n",
              "      <td>900188.000000</td>\n",
              "      <td>900188.000000</td>\n",
              "      <td>900188.000000</td>\n",
              "      <td>9.001880e+05</td>\n",
              "    </tr>\n",
              "    <tr>\n",
              "      <th>mean</th>\n",
              "      <td>3024.149099</td>\n",
              "      <td>1865.734558</td>\n",
              "      <td>3.581696</td>\n",
              "      <td>9.722426e+08</td>\n",
              "    </tr>\n",
              "    <tr>\n",
              "      <th>std</th>\n",
              "      <td>1727.894528</td>\n",
              "      <td>1096.042156</td>\n",
              "      <td>1.117043</td>\n",
              "      <td>1.214420e+07</td>\n",
              "    </tr>\n",
              "    <tr>\n",
              "      <th>min</th>\n",
              "      <td>1.000000</td>\n",
              "      <td>1.000000</td>\n",
              "      <td>1.000000</td>\n",
              "      <td>9.567039e+08</td>\n",
              "    </tr>\n",
              "    <tr>\n",
              "      <th>25%</th>\n",
              "      <td>1507.000000</td>\n",
              "      <td>1030.000000</td>\n",
              "      <td>3.000000</td>\n",
              "      <td>9.653033e+08</td>\n",
              "    </tr>\n",
              "    <tr>\n",
              "      <th>50%</th>\n",
              "      <td>3069.000000</td>\n",
              "      <td>1835.000000</td>\n",
              "      <td>4.000000</td>\n",
              "      <td>9.729898e+08</td>\n",
              "    </tr>\n",
              "    <tr>\n",
              "      <th>75%</th>\n",
              "      <td>4473.000000</td>\n",
              "      <td>2770.000000</td>\n",
              "      <td>4.000000</td>\n",
              "      <td>9.752211e+08</td>\n",
              "    </tr>\n",
              "    <tr>\n",
              "      <th>max</th>\n",
              "      <td>6040.000000</td>\n",
              "      <td>3952.000000</td>\n",
              "      <td>5.000000</td>\n",
              "      <td>1.046455e+09</td>\n",
              "    </tr>\n",
              "  </tbody>\n",
              "</table>\n",
              "</div>\n",
              "      <button class=\"colab-df-convert\" onclick=\"convertToInteractive('df-180d887b-c71b-4714-af06-e24d044cd9cd')\"\n",
              "              title=\"Convert this dataframe to an interactive table.\"\n",
              "              style=\"display:none;\">\n",
              "        \n",
              "  <svg xmlns=\"http://www.w3.org/2000/svg\" height=\"24px\"viewBox=\"0 0 24 24\"\n",
              "       width=\"24px\">\n",
              "    <path d=\"M0 0h24v24H0V0z\" fill=\"none\"/>\n",
              "    <path d=\"M18.56 5.44l.94 2.06.94-2.06 2.06-.94-2.06-.94-.94-2.06-.94 2.06-2.06.94zm-11 1L8.5 8.5l.94-2.06 2.06-.94-2.06-.94L8.5 2.5l-.94 2.06-2.06.94zm10 10l.94 2.06.94-2.06 2.06-.94-2.06-.94-.94-2.06-.94 2.06-2.06.94z\"/><path d=\"M17.41 7.96l-1.37-1.37c-.4-.4-.92-.59-1.43-.59-.52 0-1.04.2-1.43.59L10.3 9.45l-7.72 7.72c-.78.78-.78 2.05 0 2.83L4 21.41c.39.39.9.59 1.41.59.51 0 1.02-.2 1.41-.59l7.78-7.78 2.81-2.81c.8-.78.8-2.07 0-2.86zM5.41 20L4 18.59l7.72-7.72 1.47 1.35L5.41 20z\"/>\n",
              "  </svg>\n",
              "      </button>\n",
              "      \n",
              "  <style>\n",
              "    .colab-df-container {\n",
              "      display:flex;\n",
              "      flex-wrap:wrap;\n",
              "      gap: 12px;\n",
              "    }\n",
              "\n",
              "    .colab-df-convert {\n",
              "      background-color: #E8F0FE;\n",
              "      border: none;\n",
              "      border-radius: 50%;\n",
              "      cursor: pointer;\n",
              "      display: none;\n",
              "      fill: #1967D2;\n",
              "      height: 32px;\n",
              "      padding: 0 0 0 0;\n",
              "      width: 32px;\n",
              "    }\n",
              "\n",
              "    .colab-df-convert:hover {\n",
              "      background-color: #E2EBFA;\n",
              "      box-shadow: 0px 1px 2px rgba(60, 64, 67, 0.3), 0px 1px 3px 1px rgba(60, 64, 67, 0.15);\n",
              "      fill: #174EA6;\n",
              "    }\n",
              "\n",
              "    [theme=dark] .colab-df-convert {\n",
              "      background-color: #3B4455;\n",
              "      fill: #D2E3FC;\n",
              "    }\n",
              "\n",
              "    [theme=dark] .colab-df-convert:hover {\n",
              "      background-color: #434B5C;\n",
              "      box-shadow: 0px 1px 3px 1px rgba(0, 0, 0, 0.15);\n",
              "      filter: drop-shadow(0px 1px 2px rgba(0, 0, 0, 0.3));\n",
              "      fill: #FFFFFF;\n",
              "    }\n",
              "  </style>\n",
              "\n",
              "      <script>\n",
              "        const buttonEl =\n",
              "          document.querySelector('#df-180d887b-c71b-4714-af06-e24d044cd9cd button.colab-df-convert');\n",
              "        buttonEl.style.display =\n",
              "          google.colab.kernel.accessAllowed ? 'block' : 'none';\n",
              "\n",
              "        async function convertToInteractive(key) {\n",
              "          const element = document.querySelector('#df-180d887b-c71b-4714-af06-e24d044cd9cd');\n",
              "          const dataTable =\n",
              "            await google.colab.kernel.invokeFunction('convertToInteractive',\n",
              "                                                     [key], {});\n",
              "          if (!dataTable) return;\n",
              "\n",
              "          const docLinkHtml = 'Like what you see? Visit the ' +\n",
              "            '<a target=\"_blank\" href=https://colab.research.google.com/notebooks/data_table.ipynb>data table notebook</a>'\n",
              "            + ' to learn more about interactive tables.';\n",
              "          element.innerHTML = '';\n",
              "          dataTable['output_type'] = 'display_data';\n",
              "          await google.colab.output.renderOutput(dataTable, element);\n",
              "          const docLink = document.createElement('div');\n",
              "          docLink.innerHTML = docLinkHtml;\n",
              "          element.appendChild(docLink);\n",
              "        }\n",
              "      </script>\n",
              "    </div>\n",
              "  </div>\n",
              "  "
            ]
          },
          "metadata": {},
          "execution_count": 7
        }
      ]
    },
    {
      "cell_type": "markdown",
      "source": [
        "# Naive Models"
      ],
      "metadata": {
        "id": "bQ-k-iAmLWqQ"
      }
    },
    {
      "cell_type": "code",
      "source": [
        "def rmse(y_true,y_pred):\n",
        "  return np.sqrt(np.square(np.subtract(y_true,y_pred)).mean())"
      ],
      "metadata": {
        "id": "-iyuS5bCLxYS"
      },
      "execution_count": 5,
      "outputs": []
    },
    {
      "cell_type": "code",
      "source": [
        "mean_rating = train['Ratings'].mean()"
      ],
      "metadata": {
        "id": "kd5YnxtwLdlW"
      },
      "execution_count": 11,
      "outputs": []
    },
    {
      "cell_type": "code",
      "source": [
        "pred_1 = [mean_rating] * len(test)"
      ],
      "metadata": {
        "id": "GNsYvshkLjan"
      },
      "execution_count": 12,
      "outputs": []
    },
    {
      "cell_type": "code",
      "source": [
        "rmse_1 = rmse(list(test['Ratings']), pred_1)"
      ],
      "metadata": {
        "id": "k-ns8PzZL-a9"
      },
      "execution_count": 13,
      "outputs": []
    },
    {
      "cell_type": "code",
      "source": [
        "user_mean = pd.DataFrame(train.groupby('UserIDs')['Ratings'].mean())"
      ],
      "metadata": {
        "id": "E9TNoq1UNpPK"
      },
      "execution_count": 14,
      "outputs": []
    },
    {
      "cell_type": "code",
      "source": [
        "pred_2 = []\n",
        "for i in range(len(test)):\n",
        "  pred_2.append(user_mean.loc[test.iloc[i,0]]['Ratings'])"
      ],
      "metadata": {
        "id": "_g2wAPN2P4J1"
      },
      "execution_count": 15,
      "outputs": []
    },
    {
      "cell_type": "code",
      "source": [
        "rmse_2 = rmse(list(test['Ratings']), pred_2)"
      ],
      "metadata": {
        "id": "G9vQOatvSYNM"
      },
      "execution_count": 16,
      "outputs": []
    },
    {
      "cell_type": "code",
      "source": [
        "film_mean = pd.DataFrame(train.groupby('MovieIDs')['Ratings'].mean())"
      ],
      "metadata": {
        "id": "dfE2wqG2Seus"
      },
      "execution_count": 17,
      "outputs": []
    },
    {
      "cell_type": "code",
      "source": [
        "pred_3 = []\n",
        "for i in range(len(test)):\n",
        "  pred_3.append(user_mean.loc[test.iloc[i,1]]['Ratings'])"
      ],
      "metadata": {
        "id": "e99unViLcqBf"
      },
      "execution_count": 18,
      "outputs": []
    },
    {
      "cell_type": "code",
      "source": [
        "rmse_3 = rmse(list(test['Ratings']), pred_3)"
      ],
      "metadata": {
        "id": "klI7GZh5cuac"
      },
      "execution_count": 19,
      "outputs": []
    },
    {
      "cell_type": "code",
      "source": [
        "print('RMSE using mean ratings: ', rmse_1)\n",
        "print('RMSE using mean user ratings: ', rmse_2)\n",
        "print('RMSE using mean movie ratings: ', rmse_3)"
      ],
      "metadata": {
        "colab": {
          "base_uri": "https://localhost:8080/"
        },
        "id": "P73I0yt3dX8a",
        "outputId": "0574f34a-45a3-42cc-dd17-72c382fc4821"
      },
      "execution_count": 20,
      "outputs": [
        {
          "output_type": "stream",
          "name": "stdout",
          "text": [
            "RMSE using mean ratings:  1.1176358645764495\n",
            "RMSE using mean user ratings:  1.0347350838474925\n",
            "RMSE using mean movie ratings:  1.2032333066598133\n"
          ]
        }
      ]
    },
    {
      "cell_type": "markdown",
      "source": [
        "# Memory Based approach"
      ],
      "metadata": {
        "id": "lv2wEELJyWVe"
      }
    },
    {
      "cell_type": "markdown",
      "source": [
        "## User Based"
      ],
      "metadata": {
        "id": "v4d00Hq4fa6n"
      }
    },
    {
      "cell_type": "markdown",
      "source": [
        "### Cosine Distance"
      ],
      "metadata": {
        "id": "VrEG85-teE0-"
      }
    },
    {
      "cell_type": "code",
      "source": [
        "user_item = data.pivot('UserIDs','MovieIDs','Ratings').fillna(0)\n",
        "print(f'Shape: {user_item.shape}')"
      ],
      "metadata": {
        "colab": {
          "base_uri": "https://localhost:8080/"
        },
        "id": "7jXrc-ulyZxV",
        "outputId": "22b2d99d-d1de-4378-d19a-78ca0ec75ad5"
      },
      "execution_count": 22,
      "outputs": [
        {
          "output_type": "stream",
          "name": "stdout",
          "text": [
            "Shape: (6040, 3706)\n"
          ]
        }
      ]
    },
    {
      "cell_type": "code",
      "source": [
        "x_user = cosine_similarity(user_item)"
      ],
      "metadata": {
        "id": "Slm4Pyp4ye2U"
      },
      "execution_count": 23,
      "outputs": []
    },
    {
      "cell_type": "code",
      "source": [
        "# Using Weighted\n",
        "def get_rating_user(userid, movieid, similarity_matrix):\n",
        "  # Similarity of user to all other users\n",
        "  user_similarities = similarity_matrix[userid - 1]\n",
        "  # All movie ratings for the movie\n",
        "  movie_ratings = user_item.loc[:,movieid]\n",
        "  # users who watched the movie\n",
        "  user_index = np.where(movie_ratings != 0)[0]\n",
        "  # Remove users who did not watch the movie\n",
        "  user_similarities = user_similarities[user_index]\n",
        "  movie_ratings = movie_ratings[movie_ratings != 0]\n",
        "  return (user_similarities@movie_ratings)/sum(user_similarities)\n",
        "  #return np.mean(np.multiply(user_similarities,movie_ratings))"
      ],
      "metadata": {
        "id": "_msfLtaglekA"
      },
      "execution_count": 24,
      "outputs": []
    },
    {
      "cell_type": "code",
      "source": [
        "pred = []\n",
        "for i in range(len(test)):\n",
        "  test_user = test.iloc[i,0]\n",
        "  test_movie = test.iloc[i,1]\n",
        "  pred.append(get_rating_user(test_user, test_movie, x_user))"
      ],
      "metadata": {
        "id": "lGe1IBaYuU9U"
      },
      "execution_count": 25,
      "outputs": []
    },
    {
      "cell_type": "code",
      "source": [
        "weighted_rmse_user = rmse(list(test['Ratings']), pred)"
      ],
      "metadata": {
        "id": "5ToD33YWuj8x"
      },
      "execution_count": 26,
      "outputs": []
    },
    {
      "cell_type": "code",
      "source": [
        "weighted_rmse_user"
      ],
      "metadata": {
        "colab": {
          "base_uri": "https://localhost:8080/"
        },
        "id": "ffGs-mLWvziy",
        "outputId": "a15ee8ae-4733-41fc-e70f-65785fa25957"
      },
      "execution_count": 27,
      "outputs": [
        {
          "output_type": "execute_result",
          "data": {
            "text/plain": [
              "0.9572944961648672"
            ]
          },
          "metadata": {},
          "execution_count": 27
        }
      ]
    },
    {
      "cell_type": "markdown",
      "source": [
        "### Euclidean Distance"
      ],
      "metadata": {
        "id": "EPCEbD6veYNv"
      }
    },
    {
      "cell_type": "code",
      "source": [
        "user_item_1 = data.pivot('UserIDs','MovieIDs','Ratings')"
      ],
      "metadata": {
        "id": "NqHVTnv3eV6c"
      },
      "execution_count": 33,
      "outputs": []
    },
    {
      "cell_type": "code",
      "source": [
        "x_user_ed = nan_euclidean_distances(user_item_1)/np.sqrt(3706)"
      ],
      "metadata": {
        "id": "aSSEpCt_eV6d"
      },
      "execution_count": 134,
      "outputs": []
    },
    {
      "cell_type": "code",
      "source": [
        "pred_user_ed = []\n",
        "actual_user_ed = []\n",
        "for i in range(len(test)):\n",
        "  test_user = test.iloc[i,0]\n",
        "  test_movie = test.iloc[i,1]\n",
        "  rating = get_rating_user(test_user, test_movie, x_user_ed)\n",
        "  if math.isnan(rating) == False:\n",
        "    pred_user_ed.append(rating)\n",
        "    actual_user_ed.append(test.iloc[i,2])"
      ],
      "metadata": {
        "id": "aWF9qlh9eV6f"
      },
      "execution_count": null,
      "outputs": []
    },
    {
      "cell_type": "code",
      "source": [
        "rmse_user_ed = rmse(actual_user_ed, pred_user_ed)"
      ],
      "metadata": {
        "id": "xsW7J86ueV6f"
      },
      "execution_count": 38,
      "outputs": []
    },
    {
      "cell_type": "code",
      "source": [
        "rmse_user_ed"
      ],
      "metadata": {
        "colab": {
          "base_uri": "https://localhost:8080/"
        },
        "outputId": "77b16297-fa14-4ac2-d188-29e808ff385f",
        "id": "chyOZ04teV6g"
      },
      "execution_count": 39,
      "outputs": [
        {
          "output_type": "execute_result",
          "data": {
            "text/plain": [
              "1.0129166217957524"
            ]
          },
          "metadata": {},
          "execution_count": 39
        }
      ]
    },
    {
      "cell_type": "markdown",
      "source": [
        "### Pearson Correlation"
      ],
      "metadata": {
        "id": "8gDXRzd_edjo"
      }
    },
    {
      "cell_type": "code",
      "source": [
        "x_user_pc = np.corrcoef(user_item)"
      ],
      "metadata": {
        "id": "v-93SuB0eV6g"
      },
      "execution_count": null,
      "outputs": []
    },
    {
      "cell_type": "code",
      "source": [
        "pred_user_pc = []\n",
        "for i in range(len(test)):\n",
        "  test_user = test.iloc[i,0]\n",
        "  test_movie = test.iloc[i,1]\n",
        "  pred_user_pc.append(get_rating_user(test_user, test_movie, x_user_pc))"
      ],
      "metadata": {
        "id": "oavwTkB8eV6g"
      },
      "execution_count": null,
      "outputs": []
    },
    {
      "cell_type": "code",
      "source": [
        "rmse_user_pc = rmse(list(test['Ratings']), pred_user_pc)"
      ],
      "metadata": {
        "id": "GoyOOwT2eV6g"
      },
      "execution_count": null,
      "outputs": []
    },
    {
      "cell_type": "code",
      "source": [
        "rmse_user_pc"
      ],
      "metadata": {
        "id": "SGrBSQVbeV6g"
      },
      "execution_count": null,
      "outputs": []
    },
    {
      "cell_type": "markdown",
      "source": [
        "## Item bases"
      ],
      "metadata": {
        "id": "NL5Ko0yXfsz6"
      }
    },
    {
      "cell_type": "markdown",
      "source": [
        "### Cosine distance"
      ],
      "metadata": {
        "id": "ufDy2bjcko50"
      }
    },
    {
      "cell_type": "code",
      "source": [
        "x_item_cs = cosine_similarity(user_item.T)\n",
        "x_item_cs.shape"
      ],
      "metadata": {
        "colab": {
          "base_uri": "https://localhost:8080/"
        },
        "id": "OiJa_VgrfxRz",
        "outputId": "a1d83e53-9e81-4f3f-d820-da76712d760c"
      },
      "execution_count": 152,
      "outputs": [
        {
          "output_type": "execute_result",
          "data": {
            "text/plain": [
              "(3706, 3706)"
            ]
          },
          "metadata": {},
          "execution_count": 152
        }
      ]
    },
    {
      "cell_type": "code",
      "source": [
        "# Using Weighted\n",
        "\n",
        "def get_rating_item(userid, movieid, similarity_matrix):\n",
        "  # Similarity of user to all other users\n",
        "  movie_index = user_item.columns.get_loc(movieid)\n",
        "  item_similarities = similarity_matrix[movie_index]\n",
        "  # All movie ratings from the user\n",
        "  user_ratings = user_item.loc[userid,:]\n",
        "  # movies the user has watched\n",
        "  item_index = np.where(user_ratings != 0)[0]\n",
        "  # Remove movie the user did not watch\n",
        "  item_similarities = item_similarities[item_index]\n",
        "  user_ratings = user_ratings[user_ratings != 0]\n",
        "  return (item_similarities@user_ratings)/sum(item_similarities)\n"
      ],
      "metadata": {
        "id": "p6Ryk8uygWiR"
      },
      "execution_count": null,
      "outputs": []
    },
    {
      "cell_type": "code",
      "source": [
        "pred_item_cs = []\n",
        "for i in range(len(test)):\n",
        "  test_user = test.iloc[i,0]\n",
        "  test_movie = test.iloc[i,1]\n",
        "  pred_item_cs.append(get_rating_item(test_user, test_movie, x_item_cs))"
      ],
      "metadata": {
        "id": "jTA57l0zlOiL"
      },
      "execution_count": null,
      "outputs": []
    },
    {
      "cell_type": "code",
      "source": [
        "weighted_rmse_item = rmse(list(test['Ratings']), pred_item_cs)"
      ],
      "metadata": {
        "id": "js_GXBxwm0c4"
      },
      "execution_count": null,
      "outputs": []
    },
    {
      "cell_type": "code",
      "source": [
        "weighted_rmse_item"
      ],
      "metadata": {
        "colab": {
          "base_uri": "https://localhost:8080/"
        },
        "id": "gV6txyDqetZG",
        "outputId": "43684ff5-04b2-4ec9-df70-48ea793378b7"
      },
      "execution_count": null,
      "outputs": [
        {
          "output_type": "execute_result",
          "data": {
            "text/plain": [
              "0.9744446220878337"
            ]
          },
          "metadata": {},
          "execution_count": 64
        }
      ]
    },
    {
      "cell_type": "markdown",
      "source": [
        "### Euclidean distance"
      ],
      "metadata": {
        "id": "405XiAQ-kuHn"
      }
    },
    {
      "cell_type": "code",
      "source": [
        "x_item_ed = nan_euclidean_distances(user_item_1.T)/np.sqrt(6040)\n",
        "x_item_ed.shape"
      ],
      "metadata": {
        "colab": {
          "base_uri": "https://localhost:8080/"
        },
        "id": "XPBV7KxwiDHb",
        "outputId": "c43b35b2-fad5-46cf-c59b-f77b159e2698"
      },
      "execution_count": null,
      "outputs": [
        {
          "output_type": "execute_result",
          "data": {
            "text/plain": [
              "(3706, 3706)"
            ]
          },
          "metadata": {},
          "execution_count": 74
        }
      ]
    },
    {
      "cell_type": "code",
      "source": [
        "pred_item_ed = []\n",
        "actual_item_ed = []\n",
        "for i in range(len(test)):\n",
        "  test_user = test.iloc[i,0]\n",
        "  test_movie = test.iloc[i,1]\n",
        "  rating = get_rating_item(test_user, test_movie, x_item_ed)\n",
        "  if math.isnan(rating) == False:\n",
        "    pred_item_ed.append(rating)\n",
        "    actual_item_ed.append(test.iloc[i,2])"
      ],
      "metadata": {
        "id": "zrSjaB-OiDHc"
      },
      "execution_count": null,
      "outputs": []
    },
    {
      "cell_type": "code",
      "source": [
        "rmse_item_ed = rmse(actual_item_ed, pred_item_ed)"
      ],
      "metadata": {
        "id": "XFnE1hYAiDHc"
      },
      "execution_count": null,
      "outputs": []
    },
    {
      "cell_type": "code",
      "source": [
        "rmse_item_ed"
      ],
      "metadata": {
        "colab": {
          "base_uri": "https://localhost:8080/"
        },
        "outputId": "14086ac3-3ac4-41a7-d450-b002eca27f67",
        "id": "h6eHri1ZiDHc"
      },
      "execution_count": null,
      "outputs": [
        {
          "output_type": "execute_result",
          "data": {
            "text/plain": [
              "1.0854495106236097"
            ]
          },
          "metadata": {},
          "execution_count": 77
        }
      ]
    },
    {
      "cell_type": "markdown",
      "source": [
        "### Pearson Correlation"
      ],
      "metadata": {
        "id": "IWnJkNlOi9xP"
      }
    },
    {
      "cell_type": "code",
      "source": [
        "x_item_pc = np.corrcoef(user_item.T)"
      ],
      "metadata": {
        "id": "1A2rsPRhi9xY"
      },
      "execution_count": null,
      "outputs": []
    },
    {
      "cell_type": "code",
      "source": [
        "pred_item_pc = []\n",
        "for i in range(len(test)):\n",
        "  test_user = test.iloc[i,0]\n",
        "  test_movie = test.iloc[i,1]\n",
        "  pred_item_pc.append(get_rating_item(test_user, test_movie, x_item_pc))"
      ],
      "metadata": {
        "id": "OVNf0oGTi9xY"
      },
      "execution_count": null,
      "outputs": []
    },
    {
      "cell_type": "code",
      "source": [
        "rmse_item_pc = rmse(list(test['Ratings']), pred_item_pc)"
      ],
      "metadata": {
        "id": "l6W3IGcGi9xY"
      },
      "execution_count": null,
      "outputs": []
    },
    {
      "cell_type": "code",
      "source": [
        "rmse_item_pc"
      ],
      "metadata": {
        "colab": {
          "base_uri": "https://localhost:8080/"
        },
        "outputId": "415ee7f0-1fc4-470a-a746-a55fc9e730c5",
        "id": "xLaY8uxAi9xY"
      },
      "execution_count": null,
      "outputs": [
        {
          "output_type": "execute_result",
          "data": {
            "text/plain": [
              "0.9400995021161574"
            ]
          },
          "metadata": {},
          "execution_count": 81
        }
      ]
    },
    {
      "cell_type": "markdown",
      "source": [
        "## Mean Centering"
      ],
      "metadata": {
        "id": "mN1GyALeKDZ2"
      }
    },
    {
      "cell_type": "code",
      "source": [
        "user_item_2 = data.pivot('UserIDs','MovieIDs','Ratings')"
      ],
      "metadata": {
        "id": "X-p-a7818Wg8"
      },
      "execution_count": 8,
      "outputs": []
    },
    {
      "cell_type": "code",
      "source": [
        "user_mean = user_item_2.mean(axis=1)"
      ],
      "metadata": {
        "id": "ucXDPvN_MCmL"
      },
      "execution_count": 9,
      "outputs": []
    },
    {
      "cell_type": "code",
      "source": [
        "user_item_norm = user_item_2.subtract(user_mean, axis = 0)"
      ],
      "metadata": {
        "id": "5qL9I9kppsBu"
      },
      "execution_count": 10,
      "outputs": []
    },
    {
      "cell_type": "code",
      "source": [
        "# Using Weighted and mean centering\n",
        "\n",
        "def get_rating_user_mc(userid, movieid, similarity_matrix):\n",
        "  # Similarity of user to all other users\n",
        "  user_similarities = similarity_matrix[userid - 1]\n",
        "  # All movie ratings for the movie\n",
        "  movie_ratings = user_item_norm.loc[:,movieid]\n",
        "  # users who watched the movie\n",
        "  user_index = np.where(np.isnan(movie_ratings) == False)[0]\n",
        "  # Remove users who did not watch the movie\n",
        "  user_similarities = user_similarities[user_index]\n",
        "  movie_ratings = movie_ratings[np.isnan(movie_ratings) == False]\n",
        "  return (user_similarities@movie_ratings)/sum(abs(user_similarities)) + user_mean.loc[userid]\n",
        "  #return np.mean(np.multiply(user_similarities,movie_ratings))"
      ],
      "metadata": {
        "id": "m9X7wknXtUXP"
      },
      "execution_count": 43,
      "outputs": []
    },
    {
      "cell_type": "code",
      "source": [
        "# Using Weighted and mean centering\n",
        "def get_rating_item_mc(userid, movieid, similarity_matrix):\n",
        "  # Similarity of item to all other items\n",
        "  movie_index = user_item_norm.columns.get_loc(movieid)\n",
        "  item_similarities = similarity_matrix[movie_index]\n",
        "  # All movie ratings from the user\n",
        "  user_ratings = user_item_norm.loc[userid,:]\n",
        "  # movies the user has watched\n",
        "  item_index = np.where(np.isnan(user_ratings) == False)[0]\n",
        "  # Remove users who did not watch the movie\n",
        "  item_similarities = item_similarities[item_index]\n",
        "  user_ratings = user_ratings[np.isnan(user_ratings) == False]\n",
        "  return (item_similarities@user_ratings)/sum(abs(item_similarities)) + user_mean.loc[userid]\n"
      ],
      "metadata": {
        "id": "oJwUjA0WuqrD"
      },
      "execution_count": 6,
      "outputs": []
    },
    {
      "cell_type": "markdown",
      "source": [
        "### Item Based"
      ],
      "metadata": {
        "id": "7J2wfatWxVun"
      }
    },
    {
      "cell_type": "markdown",
      "source": [
        "#### Cosine Similarity"
      ],
      "metadata": {
        "id": "7ZeQcR9hodu4"
      }
    },
    {
      "cell_type": "code",
      "source": [
        "x_item_cs_mc = cosine_similarity(user_item_norm.fillna(0).T)"
      ],
      "metadata": {
        "id": "apxGIjjppUbT"
      },
      "execution_count": 11,
      "outputs": []
    },
    {
      "cell_type": "code",
      "source": [
        "pred_item_cs_mc = []\n",
        "for i in range(len(test)):\n",
        "  test_user = test.iloc[i,0]\n",
        "  test_movie = test.iloc[i,1]\n",
        "  pred_item_cs_mc.append(get_rating_item_mc(test_user, test_movie, x_item_cs_mc))"
      ],
      "metadata": {
        "id": "x3ncdUE5pUbU"
      },
      "execution_count": 15,
      "outputs": []
    },
    {
      "cell_type": "code",
      "source": [
        "rmse_item_cs_mc = rmse(list(test['Ratings']), pred_item_cs_mc)"
      ],
      "metadata": {
        "id": "hORa9lm4pUbU"
      },
      "execution_count": 17,
      "outputs": []
    },
    {
      "cell_type": "code",
      "source": [
        "rmse_item_cs_mc"
      ],
      "metadata": {
        "colab": {
          "base_uri": "https://localhost:8080/"
        },
        "outputId": "5af6c3d7-a83b-44a4-963d-8248b58b56c1",
        "id": "qSfZUZcnpUbV"
      },
      "execution_count": 18,
      "outputs": [
        {
          "output_type": "execute_result",
          "data": {
            "text/plain": [
              "0.7555139715164364"
            ]
          },
          "metadata": {},
          "execution_count": 18
        }
      ]
    },
    {
      "cell_type": "markdown",
      "source": [
        "#### Euclidean Distance"
      ],
      "metadata": {
        "id": "EcBn1kRZxm0w"
      }
    },
    {
      "cell_type": "code",
      "source": [
        "x_item_ed_mc = nan_euclidean_distances(user_item_norm.T)/np.sqrt(6040)"
      ],
      "metadata": {
        "id": "pzCAa4Mtxq6z"
      },
      "execution_count": 19,
      "outputs": []
    },
    {
      "cell_type": "code",
      "source": [
        "x_item_ed_mc.shape"
      ],
      "metadata": {
        "colab": {
          "base_uri": "https://localhost:8080/"
        },
        "outputId": "232b5ea5-3986-4b62-e162-251712ad74b5",
        "id": "DpT0FyEixq6z"
      },
      "execution_count": 20,
      "outputs": [
        {
          "output_type": "execute_result",
          "data": {
            "text/plain": [
              "(3706, 3706)"
            ]
          },
          "metadata": {},
          "execution_count": 20
        }
      ]
    },
    {
      "cell_type": "code",
      "source": [
        "pred_item_ed_mc = []\n",
        "actual_item_ed_mc = []\n",
        "for i in range(len(test)):\n",
        "  test_user = test.iloc[i,0]\n",
        "  test_movie = test.iloc[i,1]\n",
        "  rating = get_rating_item_mc(test_user, test_movie, x_item_ed_mc)\n",
        "  if math.isnan(rating) == False:\n",
        "    pred_item_ed_mc.append(rating)\n",
        "    actual_item_ed_mc.append(test.iloc[i,2])"
      ],
      "metadata": {
        "id": "Olxs4Z1nxq6z"
      },
      "execution_count": 21,
      "outputs": []
    },
    {
      "cell_type": "code",
      "source": [
        "rmse_item_ed_mc = rmse(pred_item_ed_mc, actual_item_ed_mc)"
      ],
      "metadata": {
        "id": "CG46uiSKxq60"
      },
      "execution_count": 22,
      "outputs": []
    },
    {
      "cell_type": "code",
      "source": [
        "rmse_item_ed_mc"
      ],
      "metadata": {
        "colab": {
          "base_uri": "https://localhost:8080/"
        },
        "outputId": "e78b40f2-d7b7-4536-be98-69311e7d9088",
        "id": "QXQfMXn2xq61"
      },
      "execution_count": 23,
      "outputs": [
        {
          "output_type": "execute_result",
          "data": {
            "text/plain": [
              "1.0854495105344457"
            ]
          },
          "metadata": {},
          "execution_count": 23
        }
      ]
    },
    {
      "cell_type": "markdown",
      "source": [
        "#### Pearson Correlation"
      ],
      "metadata": {
        "id": "qLiM7GANsADd"
      }
    },
    {
      "cell_type": "code",
      "source": [
        "x_item_pc_mc = user_item_norm.corr()"
      ],
      "metadata": {
        "id": "Gkv_JkQbrfXF"
      },
      "execution_count": 27,
      "outputs": []
    },
    {
      "cell_type": "code",
      "source": [
        "x_item_pc_mc = x_item_pc_mc.to_numpy()"
      ],
      "metadata": {
        "id": "VgOoQ4Rqt-co"
      },
      "execution_count": 28,
      "outputs": []
    },
    {
      "cell_type": "code",
      "source": [
        "x_item_pc_mc.shape"
      ],
      "metadata": {
        "colab": {
          "base_uri": "https://localhost:8080/"
        },
        "id": "31VoZUs1oLpd",
        "outputId": "b9bfc382-ad17-47be-8a58-00f1c24725ea"
      },
      "execution_count": 29,
      "outputs": [
        {
          "output_type": "execute_result",
          "data": {
            "text/plain": [
              "(3706, 3706)"
            ]
          },
          "metadata": {},
          "execution_count": 29
        }
      ]
    },
    {
      "cell_type": "code",
      "source": [
        "pred_item_pc_mc = []\n",
        "actual_item_pc_mc = []\n",
        "for i in range(len(test)):\n",
        "  test_user = test.iloc[i,0]\n",
        "  test_movie = test.iloc[i,1]\n",
        "  rating = get_rating_item_mc(test_user, test_movie, x_item_pc_mc)\n",
        "  if math.isnan(rating) == False:\n",
        "    pred_item_pc_mc.append(rating)\n",
        "    actual_item_pc_mc.append(test.iloc[i,2])"
      ],
      "metadata": {
        "id": "hUkGGra1x-_U"
      },
      "execution_count": 30,
      "outputs": []
    },
    {
      "cell_type": "code",
      "source": [
        "rmse_item_pc_mc = rmse(pred_item_pc_mc, actual_item_pc_mc)"
      ],
      "metadata": {
        "id": "wt2lc4suxbpD"
      },
      "execution_count": 31,
      "outputs": []
    },
    {
      "cell_type": "code",
      "source": [
        "rmse_item_pc_mc"
      ],
      "metadata": {
        "colab": {
          "base_uri": "https://localhost:8080/"
        },
        "id": "ZaBvSH4Dxk0l",
        "outputId": "5114fbda-e8d8-42e0-901b-b8b01078b34e"
      },
      "execution_count": 32,
      "outputs": [
        {
          "output_type": "execute_result",
          "data": {
            "text/plain": [
              "0.7992480677479128"
            ]
          },
          "metadata": {},
          "execution_count": 32
        }
      ]
    },
    {
      "cell_type": "markdown",
      "source": [
        "### User Based"
      ],
      "metadata": {
        "id": "D_vb2t3Ikrz6"
      }
    },
    {
      "cell_type": "markdown",
      "source": [
        "#### Cosine Similarity"
      ],
      "metadata": {
        "id": "J9yrdTPJtOXX"
      }
    },
    {
      "cell_type": "code",
      "source": [
        "user_item_norm_0 = user_item_norm.fillna(0)"
      ],
      "metadata": {
        "id": "zdWXHxsk7QgW"
      },
      "execution_count": 16,
      "outputs": []
    },
    {
      "cell_type": "code",
      "source": [
        "x_user_cs_mc = cosine_similarity(user_item_norm_0)"
      ],
      "metadata": {
        "id": "x5M3hbx6pmES"
      },
      "execution_count": 50,
      "outputs": []
    },
    {
      "cell_type": "code",
      "source": [
        "pred_cs_mc = []\n",
        "for i in range(len(test)):\n",
        "  test_user = test.iloc[i,0]\n",
        "  test_movie = test.iloc[i,1]\n",
        "  pred_cs_mc.append(get_rating_user_mc(test_user, test_movie, x_user_cs_mc))"
      ],
      "metadata": {
        "id": "N_eG8mxY9qzS"
      },
      "execution_count": 89,
      "outputs": []
    },
    {
      "cell_type": "code",
      "source": [
        "rmse_user_cs_mc = rmse(list(test['Ratings']), pred_cs_mc)"
      ],
      "metadata": {
        "id": "NIykiXFu9uxx"
      },
      "execution_count": 91,
      "outputs": []
    },
    {
      "cell_type": "code",
      "source": [
        "rmse_user_cs_mc"
      ],
      "metadata": {
        "colab": {
          "base_uri": "https://localhost:8080/"
        },
        "id": "jW8kruOjA97t",
        "outputId": "c7b0e72d-2082-4e0e-cc06-b919220a3e39"
      },
      "execution_count": 92,
      "outputs": [
        {
          "output_type": "execute_result",
          "data": {
            "text/plain": [
              "0.7693630555174746"
            ]
          },
          "metadata": {},
          "execution_count": 92
        }
      ]
    },
    {
      "cell_type": "markdown",
      "source": [
        "#### Euclidean Distance"
      ],
      "metadata": {
        "id": "5vaDb7HoqEu5"
      }
    },
    {
      "cell_type": "code",
      "source": [
        "x_user_ed_mc = nan_euclidean_distances(user_item_norm)/np.sqrt(3706)"
      ],
      "metadata": {
        "id": "pfjXtISoqc5o"
      },
      "execution_count": 124,
      "outputs": []
    },
    {
      "cell_type": "code",
      "source": [
        "x_user_ed_mc.shape"
      ],
      "metadata": {
        "colab": {
          "base_uri": "https://localhost:8080/"
        },
        "id": "C3DmOShaqnrj",
        "outputId": "acce30da-6413-4a45-c7a5-b1e233e69aaf"
      },
      "execution_count": 125,
      "outputs": [
        {
          "output_type": "execute_result",
          "data": {
            "text/plain": [
              "(6040, 6040)"
            ]
          },
          "metadata": {},
          "execution_count": 125
        }
      ]
    },
    {
      "cell_type": "code",
      "source": [
        "pred_user_ed_mc = []\n",
        "actual_user_ed_mc = []\n",
        "for i in range(len(test)):\n",
        "  test_user = test.iloc[i,0]\n",
        "  test_movie = test.iloc[i,1]\n",
        "  rating = get_rating_user_mc(test_user, test_movie, x_user_ed_mc)\n",
        "  if math.isnan(rating) == False:\n",
        "    pred_user_ed_mc.append(rating)\n",
        "    actual_user_ed_mc.append(test.iloc[i,2])"
      ],
      "metadata": {
        "colab": {
          "base_uri": "https://localhost:8080/"
        },
        "id": "lxzGMWdwqc5o",
        "outputId": "39d28bfa-cfa8-4a4b-bd17-86e2082142d7"
      },
      "execution_count": 129,
      "outputs": [
        {
          "output_type": "stream",
          "name": "stderr",
          "text": [
            "/usr/local/lib/python3.7/dist-packages/ipykernel_launcher.py:13: RuntimeWarning: invalid value encountered in double_scalars\n",
            "  del sys.path[0]\n"
          ]
        }
      ]
    },
    {
      "cell_type": "code",
      "source": [
        "rmse_user_ed_mc = rmse(pred_user_ed_mc, actual_user_ed_mc)"
      ],
      "metadata": {
        "id": "6Msd5Y6Qqc5p"
      },
      "execution_count": 139,
      "outputs": []
    },
    {
      "cell_type": "code",
      "source": [
        "rmse_user_ed_mc"
      ],
      "metadata": {
        "colab": {
          "base_uri": "https://localhost:8080/"
        },
        "outputId": "dcebc718-abf9-4d79-f97e-18265c51e896",
        "id": "FP5c2dKSqc5p"
      },
      "execution_count": 140,
      "outputs": [
        {
          "output_type": "execute_result",
          "data": {
            "text/plain": [
              "0.9443797636588582"
            ]
          },
          "metadata": {},
          "execution_count": 140
        }
      ]
    },
    {
      "cell_type": "markdown",
      "source": [
        "#### Pearson Correlation"
      ],
      "metadata": {
        "id": "pDUtGcSBkzbh"
      }
    },
    {
      "cell_type": "code",
      "source": [
        "x_user_pc_mc = user_item_norm.T.corr()"
      ],
      "metadata": {
        "id": "hccJ0rHFk3h9"
      },
      "execution_count": 110,
      "outputs": []
    },
    {
      "cell_type": "code",
      "source": [
        "x_user_pc_mc = x_user_pc_mc.to_numpy()"
      ],
      "metadata": {
        "id": "IY25brFmk_ND"
      },
      "execution_count": 111,
      "outputs": []
    },
    {
      "cell_type": "code",
      "source": [
        "x_user_pc_mc"
      ],
      "metadata": {
        "colab": {
          "base_uri": "https://localhost:8080/"
        },
        "id": "2c-EJDSume6k",
        "outputId": "7937923c-2ec6-4a82-cbe4-dcae6928f9c4"
      },
      "execution_count": 112,
      "outputs": [
        {
          "output_type": "execute_result",
          "data": {
            "text/plain": [
              "array([[ 1.        ,  0.41666667, -0.33218192, ...,         nan,\n",
              "         0.05685735, -0.04351941],\n",
              "       [ 0.41666667,  1.        ,  0.23683386, ..., -0.5       ,\n",
              "         0.57207755, -0.0271435 ],\n",
              "       [-0.33218192,  0.23683386,  1.        , ...,  0.5       ,\n",
              "         0.30927686, -0.39528471],\n",
              "       ...,\n",
              "       [        nan, -0.5       ,  0.5       , ...,  1.        ,\n",
              "         0.27116307, -0.39712226],\n",
              "       [ 0.05685735,  0.57207755,  0.30927686, ...,  0.27116307,\n",
              "         1.        ,  0.24230884],\n",
              "       [-0.04351941, -0.0271435 , -0.39528471, ..., -0.39712226,\n",
              "         0.24230884,  1.        ]])"
            ]
          },
          "metadata": {},
          "execution_count": 112
        }
      ]
    },
    {
      "cell_type": "code",
      "source": [
        "x_user_pc_mc.shape"
      ],
      "metadata": {
        "colab": {
          "base_uri": "https://localhost:8080/"
        },
        "id": "b_bi21Utlv7W",
        "outputId": "0bdfe372-acc8-4b99-e84b-b76f8fbaa80f"
      },
      "execution_count": 113,
      "outputs": [
        {
          "output_type": "execute_result",
          "data": {
            "text/plain": [
              "(6040, 6040)"
            ]
          },
          "metadata": {},
          "execution_count": 113
        }
      ]
    },
    {
      "cell_type": "code",
      "source": [
        "pred_user_pc_mc = []\n",
        "actual_user_pc_mc = []\n",
        "for i in range(len(test)):\n",
        "  test_user = test.iloc[i,0]\n",
        "  test_movie = test.iloc[i,1]\n",
        "  rating = get_rating_user_mc(test_user, test_movie, x_user_pc_mc)\n",
        "  if math.isnan(rating) == False:\n",
        "    pred_user_pc_mc.append(rating)\n",
        "    actual_user_pc_mc.append(test.iloc[i,2])"
      ],
      "metadata": {
        "id": "4tiUzce1lE5b"
      },
      "execution_count": 114,
      "outputs": []
    },
    {
      "cell_type": "code",
      "source": [
        "rmse_user_pc_mc = rmse(pred_user_pc_mc, actual_user_pc_mc)"
      ],
      "metadata": {
        "id": "7tdqZ0NilE5e"
      },
      "execution_count": 115,
      "outputs": []
    },
    {
      "cell_type": "code",
      "source": [
        "rmse_user_pc_mc"
      ],
      "metadata": {
        "colab": {
          "base_uri": "https://localhost:8080/"
        },
        "outputId": "99d75a39-3dc3-4160-9ad2-0f97ca0519b3",
        "id": "UpALPdzSlE5f"
      },
      "execution_count": 116,
      "outputs": [
        {
          "output_type": "execute_result",
          "data": {
            "text/plain": [
              "0.8277507466576526"
            ]
          },
          "metadata": {},
          "execution_count": 116
        }
      ]
    }
  ]
}