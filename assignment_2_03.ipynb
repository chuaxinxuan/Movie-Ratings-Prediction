{
 "cells": [
  {
   "cell_type": "markdown",
   "id": "4ab9f88e",
   "metadata": {},
   "source": [
    "# Importing Relevant Packages"
   ]
  },
  {
   "cell_type": "code",
   "execution_count": 1,
   "id": "6acca7af",
   "metadata": {},
   "outputs": [],
   "source": [
    "import pandas as pd \n",
    "import jax \n",
    "from jax.config import config\n",
    "config.update('jax_enable_x64', True)\n",
    "import jax.numpy as jnp\n",
    "\n",
    "import numpy as np\n",
    "import os as os\n",
    "import pylab as plt\n",
    "import h5py # to read hdf5 files\n",
    "import time\n",
    "import scipy\n",
    "from sklearn.model_selection import train_test_split"
   ]
  },
  {
   "cell_type": "markdown",
   "id": "d7bf5535",
   "metadata": {},
   "source": [
    "# Reading in Data "
   ]
  },
  {
   "cell_type": "code",
   "execution_count": 2,
   "id": "305c3d4e",
   "metadata": {},
   "outputs": [],
   "source": [
    "ratings = pd.read_csv('/Users/joeyt/Desktop/4212 lab/ml-1m/ratings.dat', header = None, sep='::', engine = 'python', encoding='ISO-8859-1')"
   ]
  },
  {
   "cell_type": "code",
   "execution_count": 3,
   "id": "81817291",
   "metadata": {},
   "outputs": [
    {
     "data": {
      "text/html": [
       "<div>\n",
       "<style scoped>\n",
       "    .dataframe tbody tr th:only-of-type {\n",
       "        vertical-align: middle;\n",
       "    }\n",
       "\n",
       "    .dataframe tbody tr th {\n",
       "        vertical-align: top;\n",
       "    }\n",
       "\n",
       "    .dataframe thead th {\n",
       "        text-align: right;\n",
       "    }\n",
       "</style>\n",
       "<table border=\"1\" class=\"dataframe\">\n",
       "  <thead>\n",
       "    <tr style=\"text-align: right;\">\n",
       "      <th></th>\n",
       "      <th>0</th>\n",
       "      <th>1</th>\n",
       "      <th>2</th>\n",
       "      <th>3</th>\n",
       "    </tr>\n",
       "  </thead>\n",
       "  <tbody>\n",
       "    <tr>\n",
       "      <th>0</th>\n",
       "      <td>1</td>\n",
       "      <td>1193</td>\n",
       "      <td>5</td>\n",
       "      <td>978300760</td>\n",
       "    </tr>\n",
       "    <tr>\n",
       "      <th>1</th>\n",
       "      <td>1</td>\n",
       "      <td>661</td>\n",
       "      <td>3</td>\n",
       "      <td>978302109</td>\n",
       "    </tr>\n",
       "    <tr>\n",
       "      <th>2</th>\n",
       "      <td>1</td>\n",
       "      <td>914</td>\n",
       "      <td>3</td>\n",
       "      <td>978301968</td>\n",
       "    </tr>\n",
       "    <tr>\n",
       "      <th>3</th>\n",
       "      <td>1</td>\n",
       "      <td>3408</td>\n",
       "      <td>4</td>\n",
       "      <td>978300275</td>\n",
       "    </tr>\n",
       "    <tr>\n",
       "      <th>4</th>\n",
       "      <td>1</td>\n",
       "      <td>2355</td>\n",
       "      <td>5</td>\n",
       "      <td>978824291</td>\n",
       "    </tr>\n",
       "    <tr>\n",
       "      <th>...</th>\n",
       "      <td>...</td>\n",
       "      <td>...</td>\n",
       "      <td>...</td>\n",
       "      <td>...</td>\n",
       "    </tr>\n",
       "    <tr>\n",
       "      <th>1000204</th>\n",
       "      <td>6040</td>\n",
       "      <td>1091</td>\n",
       "      <td>1</td>\n",
       "      <td>956716541</td>\n",
       "    </tr>\n",
       "    <tr>\n",
       "      <th>1000205</th>\n",
       "      <td>6040</td>\n",
       "      <td>1094</td>\n",
       "      <td>5</td>\n",
       "      <td>956704887</td>\n",
       "    </tr>\n",
       "    <tr>\n",
       "      <th>1000206</th>\n",
       "      <td>6040</td>\n",
       "      <td>562</td>\n",
       "      <td>5</td>\n",
       "      <td>956704746</td>\n",
       "    </tr>\n",
       "    <tr>\n",
       "      <th>1000207</th>\n",
       "      <td>6040</td>\n",
       "      <td>1096</td>\n",
       "      <td>4</td>\n",
       "      <td>956715648</td>\n",
       "    </tr>\n",
       "    <tr>\n",
       "      <th>1000208</th>\n",
       "      <td>6040</td>\n",
       "      <td>1097</td>\n",
       "      <td>4</td>\n",
       "      <td>956715569</td>\n",
       "    </tr>\n",
       "  </tbody>\n",
       "</table>\n",
       "<p>1000209 rows × 4 columns</p>\n",
       "</div>"
      ],
      "text/plain": [
       "            0     1  2          3\n",
       "0           1  1193  5  978300760\n",
       "1           1   661  3  978302109\n",
       "2           1   914  3  978301968\n",
       "3           1  3408  4  978300275\n",
       "4           1  2355  5  978824291\n",
       "...       ...   ... ..        ...\n",
       "1000204  6040  1091  1  956716541\n",
       "1000205  6040  1094  5  956704887\n",
       "1000206  6040   562  5  956704746\n",
       "1000207  6040  1096  4  956715648\n",
       "1000208  6040  1097  4  956715569\n",
       "\n",
       "[1000209 rows x 4 columns]"
      ]
     },
     "execution_count": 3,
     "metadata": {},
     "output_type": "execute_result"
    }
   ],
   "source": [
    "ratings"
   ]
  },
  {
   "cell_type": "markdown",
   "id": "686ce426",
   "metadata": {},
   "source": [
    "# Train-Test Split"
   ]
  },
  {
   "cell_type": "code",
   "execution_count": 4,
   "id": "9c76370b",
   "metadata": {},
   "outputs": [],
   "source": [
    "training_data, testing_data = train_test_split(ratings, test_size=0.1, random_state=1)"
   ]
  },
  {
   "cell_type": "code",
   "execution_count": 5,
   "id": "3d384f13",
   "metadata": {},
   "outputs": [
    {
     "data": {
      "text/html": [
       "<div>\n",
       "<style scoped>\n",
       "    .dataframe tbody tr th:only-of-type {\n",
       "        vertical-align: middle;\n",
       "    }\n",
       "\n",
       "    .dataframe tbody tr th {\n",
       "        vertical-align: top;\n",
       "    }\n",
       "\n",
       "    .dataframe thead th {\n",
       "        text-align: right;\n",
       "    }\n",
       "</style>\n",
       "<table border=\"1\" class=\"dataframe\">\n",
       "  <thead>\n",
       "    <tr style=\"text-align: right;\">\n",
       "      <th></th>\n",
       "      <th>0</th>\n",
       "      <th>1</th>\n",
       "      <th>2</th>\n",
       "      <th>3</th>\n",
       "    </tr>\n",
       "  </thead>\n",
       "  <tbody>\n",
       "    <tr>\n",
       "      <th>316448</th>\n",
       "      <td>1883</td>\n",
       "      <td>2020</td>\n",
       "      <td>3</td>\n",
       "      <td>974876148</td>\n",
       "    </tr>\n",
       "    <tr>\n",
       "      <th>82748</th>\n",
       "      <td>549</td>\n",
       "      <td>930</td>\n",
       "      <td>5</td>\n",
       "      <td>976116072</td>\n",
       "    </tr>\n",
       "    <tr>\n",
       "      <th>215642</th>\n",
       "      <td>1306</td>\n",
       "      <td>3510</td>\n",
       "      <td>3</td>\n",
       "      <td>1015051441</td>\n",
       "    </tr>\n",
       "    <tr>\n",
       "      <th>148022</th>\n",
       "      <td>953</td>\n",
       "      <td>3911</td>\n",
       "      <td>5</td>\n",
       "      <td>975265409</td>\n",
       "    </tr>\n",
       "    <tr>\n",
       "      <th>522854</th>\n",
       "      <td>3224</td>\n",
       "      <td>2599</td>\n",
       "      <td>4</td>\n",
       "      <td>968520931</td>\n",
       "    </tr>\n",
       "  </tbody>\n",
       "</table>\n",
       "</div>"
      ],
      "text/plain": [
       "           0     1  2           3\n",
       "316448  1883  2020  3   974876148\n",
       "82748    549   930  5   976116072\n",
       "215642  1306  3510  3  1015051441\n",
       "148022   953  3911  5   975265409\n",
       "522854  3224  2599  4   968520931"
      ]
     },
     "execution_count": 5,
     "metadata": {},
     "output_type": "execute_result"
    }
   ],
   "source": [
    "training_data.head()\n",
    "#UserIDs range between 1 and 6040 \n",
    "#MovieIDs range between 1 and 3952\n",
    "#Ratings are made on a 5-star scale (whole-star ratings only)\n",
    "#Timestamp is represented in seconds since the epoch as returned by time(2)\n",
    "#Each user has at least 20 ratings"
   ]
  },
  {
   "cell_type": "code",
   "execution_count": 6,
   "id": "a722c4e2",
   "metadata": {},
   "outputs": [],
   "source": [
    "rating_matrix=np.zeros((6040,3952))\n",
    "for i in range(len(training_data)):\n",
    "    row = training_data.iloc[i][0]-1\n",
    "    col = training_data.iloc[i][1]-1\n",
    "    rating_matrix[row,col] = training_data.iloc[i][2]"
   ]
  },
  {
   "cell_type": "code",
   "execution_count": 7,
   "id": "315d54da",
   "metadata": {},
   "outputs": [],
   "source": [
    "testing_matrix=np.zeros((6040,3952))\n",
    "for i in range(len(testing_data)):\n",
    "    row = testing_data.iloc[i][0]-1\n",
    "    col = testing_data.iloc[i][1]-1\n",
    "    testing_matrix[row,col] = testing_data.iloc[i][2]"
   ]
  },
  {
   "cell_type": "markdown",
   "id": "e6216266",
   "metadata": {},
   "source": [
    "# List of Indices for Observed Entries"
   ]
  },
  {
   "cell_type": "markdown",
   "id": "68c63fe8",
   "metadata": {},
   "source": [
    "## Full Train Set"
   ]
  },
  {
   "cell_type": "code",
   "execution_count": 8,
   "id": "44a25018",
   "metadata": {},
   "outputs": [],
   "source": [
    "user_train_list = np.array(training_data.loc[:,0])-1\n",
    "film_train_list = np.array(training_data.loc[:,1])-1"
   ]
  },
  {
   "cell_type": "markdown",
   "id": "20352a3e",
   "metadata": {},
   "source": [
    "## Full Test Set"
   ]
  },
  {
   "cell_type": "code",
   "execution_count": 9,
   "id": "5f5cf35b",
   "metadata": {},
   "outputs": [],
   "source": [
    "user_test_list = np.array(testing_data.loc[:,0])-1\n",
    "film_test_list = np.array(testing_data.loc[:,1])-1"
   ]
  },
  {
   "cell_type": "markdown",
   "id": "49d03a9c",
   "metadata": {},
   "source": [
    "# Validation Set (Split from Full Train Set)"
   ]
  },
  {
   "cell_type": "code",
   "execution_count": 10,
   "id": "ef780f63",
   "metadata": {},
   "outputs": [],
   "source": [
    "train_data, val_data = train_test_split(training_data, test_size=0.2, random_state=1)"
   ]
  },
  {
   "cell_type": "code",
   "execution_count": 11,
   "id": "de4b62ff",
   "metadata": {},
   "outputs": [
    {
     "data": {
      "text/html": [
       "<div>\n",
       "<style scoped>\n",
       "    .dataframe tbody tr th:only-of-type {\n",
       "        vertical-align: middle;\n",
       "    }\n",
       "\n",
       "    .dataframe tbody tr th {\n",
       "        vertical-align: top;\n",
       "    }\n",
       "\n",
       "    .dataframe thead th {\n",
       "        text-align: right;\n",
       "    }\n",
       "</style>\n",
       "<table border=\"1\" class=\"dataframe\">\n",
       "  <thead>\n",
       "    <tr style=\"text-align: right;\">\n",
       "      <th></th>\n",
       "      <th>0</th>\n",
       "      <th>1</th>\n",
       "      <th>2</th>\n",
       "      <th>3</th>\n",
       "    </tr>\n",
       "  </thead>\n",
       "  <tbody>\n",
       "    <tr>\n",
       "      <th>646371</th>\n",
       "      <td>3891</td>\n",
       "      <td>2858</td>\n",
       "      <td>4</td>\n",
       "      <td>965798840</td>\n",
       "    </tr>\n",
       "    <tr>\n",
       "      <th>168205</th>\n",
       "      <td>1069</td>\n",
       "      <td>1437</td>\n",
       "      <td>3</td>\n",
       "      <td>974943407</td>\n",
       "    </tr>\n",
       "    <tr>\n",
       "      <th>502265</th>\n",
       "      <td>3082</td>\n",
       "      <td>2762</td>\n",
       "      <td>5</td>\n",
       "      <td>969816764</td>\n",
       "    </tr>\n",
       "    <tr>\n",
       "      <th>611075</th>\n",
       "      <td>3705</td>\n",
       "      <td>1303</td>\n",
       "      <td>4</td>\n",
       "      <td>966284955</td>\n",
       "    </tr>\n",
       "    <tr>\n",
       "      <th>877959</th>\n",
       "      <td>5306</td>\n",
       "      <td>3033</td>\n",
       "      <td>1</td>\n",
       "      <td>960940239</td>\n",
       "    </tr>\n",
       "  </tbody>\n",
       "</table>\n",
       "</div>"
      ],
      "text/plain": [
       "           0     1  2          3\n",
       "646371  3891  2858  4  965798840\n",
       "168205  1069  1437  3  974943407\n",
       "502265  3082  2762  5  969816764\n",
       "611075  3705  1303  4  966284955\n",
       "877959  5306  3033  1  960940239"
      ]
     },
     "execution_count": 11,
     "metadata": {},
     "output_type": "execute_result"
    }
   ],
   "source": [
    "train_data.head()"
   ]
  },
  {
   "cell_type": "code",
   "execution_count": 12,
   "id": "5a163e26",
   "metadata": {},
   "outputs": [],
   "source": [
    "train_matrix=np.zeros((6040,3952))\n",
    "for i in range(len(train_data)):\n",
    "    row = train_data.iloc[i][0]-1\n",
    "    col = train_data.iloc[i][1]-1\n",
    "    train_matrix[row,col] = train_data.iloc[i][2]"
   ]
  },
  {
   "cell_type": "code",
   "execution_count": 13,
   "id": "5d594c6b",
   "metadata": {},
   "outputs": [],
   "source": [
    "val_matrix=np.zeros((6040,3952))\n",
    "for i in range(len(val_data)):\n",
    "    row = val_data.iloc[i][0]-1\n",
    "    col = val_data.iloc[i][1]-1\n",
    "    val_matrix[row,col] = val_data.iloc[i][2]"
   ]
  },
  {
   "cell_type": "markdown",
   "id": "88d7be44",
   "metadata": {},
   "source": [
    "# List of Indices for Observed Entries"
   ]
  },
  {
   "cell_type": "markdown",
   "id": "c0dfb914",
   "metadata": {},
   "source": [
    "## Partial Train Set"
   ]
  },
  {
   "cell_type": "code",
   "execution_count": 14,
   "id": "366ab5e9",
   "metadata": {},
   "outputs": [],
   "source": [
    "u_list = np.array(train_data.loc[:,0])-1\n",
    "v_list = np.array(train_data.loc[:,1])-1"
   ]
  },
  {
   "cell_type": "markdown",
   "id": "1d939bf4",
   "metadata": {},
   "source": [
    "## Validation Set "
   ]
  },
  {
   "cell_type": "code",
   "execution_count": 15,
   "id": "c34b1242",
   "metadata": {},
   "outputs": [],
   "source": [
    "u_t_list = np.array(val_data.loc[:,0])-1\n",
    "v_t_list = np.array(val_data.loc[:,1])-1"
   ]
  },
  {
   "cell_type": "markdown",
   "id": "22e0fb37",
   "metadata": {},
   "source": [
    "# General Functions Required"
   ]
  },
  {
   "cell_type": "code",
   "execution_count": 16,
   "id": "70c2f0b4",
   "metadata": {},
   "outputs": [],
   "source": [
    "@jax.jit\n",
    "def extract_film_and_user(param):\n",
    "    film = param[:(film_dimx*film_dimy)]\n",
    "    user = param[(film_dimx*film_dimy):]\n",
    "    return film, user"
   ]
  },
  {
   "cell_type": "code",
   "execution_count": 17,
   "id": "f6a25c0e",
   "metadata": {},
   "outputs": [],
   "source": [
    "#for CV\n",
    "def train_MSE(R,A):\n",
    "    error=(A-R)[u_list.astype(int), v_list.astype(int)] #only have a subset of info\n",
    "    return jnp.mean(error**2)\n",
    "def val_RMSE(R,A):\n",
    "    error=(A-R)[u_t_list.astype(int), v_t_list.astype(int)] #only have a subset of info\n",
    "    return jnp.sqrt(jnp.mean(error**2))"
   ]
  },
  {
   "cell_type": "markdown",
   "id": "7d4aac5a",
   "metadata": {},
   "source": [
    "# Non-Negative Matrix Factorization"
   ]
  },
  {
   "cell_type": "markdown",
   "id": "43069028",
   "metadata": {},
   "source": [
    "## Functions Required"
   ]
  },
  {
   "cell_type": "code",
   "execution_count": 18,
   "id": "ec588d82",
   "metadata": {},
   "outputs": [],
   "source": [
    "def make_positive(x):\n",
    "    return jnp.log(1. + jnp.exp(x))"
   ]
  },
  {
   "cell_type": "code",
   "execution_count": 19,
   "id": "68849e96",
   "metadata": {},
   "outputs": [],
   "source": [
    "@jax.jit\n",
    "def loss_NMF_cv(param):\n",
    "    film_, user_ = extract_film_and_user(param)\n",
    "\n",
    "\n",
    "    film = make_positive(film_).reshape(i,df)\n",
    "    user = make_positive(user_).reshape(du,i)\n",
    "\n",
    "    rating_matrix_reconstructed = user @ film\n",
    "\n",
    "    return train_MSE(rating_matrix_reconstructed,train_matrix)\n",
    "loss_NMF_grad_cv = jax.jit(jax.grad(loss_NMF_cv))"
   ]
  },
  {
   "cell_type": "code",
   "execution_count": 20,
   "id": "cc127075",
   "metadata": {},
   "outputs": [],
   "source": [
    "def loss_NMF_grad_wrapper_cv(param):\n",
    "    return np.array(loss_NMF_grad_cv(param))"
   ]
  },
  {
   "cell_type": "code",
   "execution_count": 21,
   "id": "4f4fefb7",
   "metadata": {},
   "outputs": [],
   "source": [
    "def save_traj_cv(param):\n",
    "    \n",
    "    global iteration_index\n",
    "    iteration_index += 1\n",
    "    current_loss = loss_NMF_cv(param)\n",
    "\n",
    "  \n",
    "    if iteration_index % 10 == 0:\n",
    "        print(f\"iteration:{iteration_index} \\t \\t loss={current_loss:5.5}\")\n"
   ]
  },
  {
   "cell_type": "markdown",
   "id": "a9a92cf6",
   "metadata": {},
   "source": [
    "## Cross Validation to find optimal k"
   ]
  },
  {
   "cell_type": "code",
   "execution_count": 22,
   "id": "e2c80f93",
   "metadata": {},
   "outputs": [
    {
     "name": "stderr",
     "output_type": "stream",
     "text": [
      "WARNING:absl:No GPU/TPU found, falling back to CPU. (Set TF_CPP_MIN_LOG_LEVEL=0 and rerun for more info.)\n"
     ]
    },
    {
     "name": "stdout",
     "output_type": "stream",
     "text": [
      "iteration:10 \t \t loss=1.5589\n",
      "iteration:20 \t \t loss=0.96893\n",
      "iteration:30 \t \t loss=0.86095\n",
      "iteration:40 \t \t loss=0.83301\n",
      "iteration:50 \t \t loss=0.82327\n",
      "iteration:60 \t \t loss=0.81929\n",
      "iteration:70 \t \t loss=0.81718\n",
      "iteration:80 \t \t loss=0.81567\n",
      "iteration:90 \t \t loss=0.81475\n",
      "iteration:100 \t \t loss=0.81418\n",
      "iteration:110 \t \t loss=0.81379\n",
      "iteration:120 \t \t loss=0.81353\n",
      "iteration:130 \t \t loss=0.81333\n",
      "iteration:140 \t \t loss=0.81321\n",
      "iteration:150 \t \t loss=0.8131\n",
      "iteration:160 \t \t loss=0.81301\n",
      "iteration:170 \t \t loss=0.81293\n",
      "iteration:180 \t \t loss=0.81285\n",
      "iteration:190 \t \t loss=0.81278\n",
      "iteration:200 \t \t loss=0.81274\n",
      "R:1 \t \t val_RMSE=0.90992\n",
      "iteration:10 \t \t loss=1.1907\n",
      "iteration:20 \t \t loss=0.87687\n",
      "iteration:30 \t \t loss=0.83117\n",
      "iteration:40 \t \t loss=0.81706\n",
      "iteration:50 \t \t loss=0.8085\n",
      "iteration:60 \t \t loss=0.79533\n",
      "iteration:70 \t \t loss=0.77925\n",
      "iteration:80 \t \t loss=0.76686\n",
      "iteration:90 \t \t loss=0.75872\n",
      "iteration:100 \t \t loss=0.75302\n",
      "iteration:110 \t \t loss=0.74953\n",
      "iteration:120 \t \t loss=0.74719\n",
      "iteration:130 \t \t loss=0.74555\n",
      "iteration:140 \t \t loss=0.74435\n",
      "iteration:150 \t \t loss=0.74346\n",
      "iteration:160 \t \t loss=0.74278\n",
      "iteration:170 \t \t loss=0.74229\n",
      "iteration:180 \t \t loss=0.74196\n",
      "iteration:190 \t \t loss=0.74164\n",
      "iteration:200 \t \t loss=0.74139\n",
      "R:2 \t \t val_RMSE=0.88355\n",
      "iteration:10 \t \t loss=1.0337\n",
      "iteration:20 \t \t loss=0.84984\n",
      "iteration:30 \t \t loss=0.82004\n",
      "iteration:40 \t \t loss=0.80756\n",
      "iteration:50 \t \t loss=0.79138\n",
      "iteration:60 \t \t loss=0.77213\n",
      "iteration:70 \t \t loss=0.75752\n",
      "iteration:80 \t \t loss=0.74754\n",
      "iteration:90 \t \t loss=0.74017\n",
      "iteration:100 \t \t loss=0.73456\n",
      "iteration:110 \t \t loss=0.73036\n",
      "iteration:120 \t \t loss=0.72704\n",
      "iteration:130 \t \t loss=0.72413\n",
      "iteration:140 \t \t loss=0.72182\n",
      "iteration:150 \t \t loss=0.71982\n",
      "iteration:160 \t \t loss=0.71808\n",
      "iteration:170 \t \t loss=0.71664\n",
      "iteration:180 \t \t loss=0.71547\n",
      "iteration:190 \t \t loss=0.71439\n",
      "iteration:200 \t \t loss=0.71345\n",
      "R:3 \t \t val_RMSE=0.88268\n",
      "iteration:10 \t \t loss=1.0074\n",
      "iteration:20 \t \t loss=0.84829\n",
      "iteration:30 \t \t loss=0.81745\n",
      "iteration:40 \t \t loss=0.80366\n",
      "iteration:50 \t \t loss=0.78588\n",
      "iteration:60 \t \t loss=0.76429\n",
      "iteration:70 \t \t loss=0.74772\n",
      "iteration:80 \t \t loss=0.73546\n",
      "iteration:90 \t \t loss=0.72542\n",
      "iteration:100 \t \t loss=0.717\n",
      "iteration:110 \t \t loss=0.70979\n",
      "iteration:120 \t \t loss=0.70357\n",
      "iteration:130 \t \t loss=0.69833\n",
      "iteration:140 \t \t loss=0.69384\n",
      "iteration:150 \t \t loss=0.69031\n",
      "iteration:160 \t \t loss=0.68745\n",
      "iteration:170 \t \t loss=0.68511\n",
      "iteration:180 \t \t loss=0.6831\n",
      "iteration:190 \t \t loss=0.68162\n",
      "iteration:200 \t \t loss=0.68046\n",
      "R:4 \t \t val_RMSE=0.87412\n",
      "iteration:10 \t \t loss=0.97715\n",
      "iteration:20 \t \t loss=0.83734\n",
      "iteration:30 \t \t loss=0.81102\n",
      "iteration:40 \t \t loss=0.79481\n",
      "iteration:50 \t \t loss=0.77216\n",
      "iteration:60 \t \t loss=0.75024\n",
      "iteration:70 \t \t loss=0.73328\n",
      "iteration:80 \t \t loss=0.71976\n",
      "iteration:90 \t \t loss=0.7086\n",
      "iteration:100 \t \t loss=0.69936\n",
      "iteration:110 \t \t loss=0.69198\n",
      "iteration:120 \t \t loss=0.68552\n",
      "iteration:130 \t \t loss=0.68065\n",
      "iteration:140 \t \t loss=0.67609\n",
      "iteration:150 \t \t loss=0.67243\n",
      "iteration:160 \t \t loss=0.6693\n",
      "iteration:170 \t \t loss=0.66691\n",
      "iteration:180 \t \t loss=0.66504\n",
      "iteration:190 \t \t loss=0.66323\n",
      "iteration:200 \t \t loss=0.66175\n",
      "R:5 \t \t val_RMSE=0.87647\n",
      "iteration:10 \t \t loss=0.98491\n",
      "iteration:20 \t \t loss=0.84099\n",
      "iteration:30 \t \t loss=0.81272\n",
      "iteration:40 \t \t loss=0.79274\n",
      "iteration:50 \t \t loss=0.76658\n",
      "iteration:60 \t \t loss=0.73666\n",
      "iteration:70 \t \t loss=0.7157\n",
      "iteration:80 \t \t loss=0.69947\n",
      "iteration:90 \t \t loss=0.68732\n",
      "iteration:100 \t \t loss=0.67801\n",
      "iteration:110 \t \t loss=0.67049\n",
      "iteration:120 \t \t loss=0.66422\n",
      "iteration:130 \t \t loss=0.65966\n",
      "iteration:140 \t \t loss=0.65546\n",
      "iteration:150 \t \t loss=0.65235\n",
      "iteration:160 \t \t loss=0.64986\n",
      "iteration:170 \t \t loss=0.64767\n",
      "iteration:180 \t \t loss=0.64574\n",
      "iteration:190 \t \t loss=0.64416\n",
      "iteration:200 \t \t loss=0.64282\n",
      "R:6 \t \t val_RMSE=0.87619\n",
      "iteration:10 \t \t loss=0.98159\n",
      "iteration:20 \t \t loss=0.83688\n",
      "iteration:30 \t \t loss=0.80722\n",
      "iteration:40 \t \t loss=0.78723\n",
      "iteration:50 \t \t loss=0.75869\n",
      "iteration:60 \t \t loss=0.73031\n",
      "iteration:70 \t \t loss=0.70996\n",
      "iteration:80 \t \t loss=0.69242\n",
      "iteration:90 \t \t loss=0.67969\n",
      "iteration:100 \t \t loss=0.66827\n",
      "iteration:110 \t \t loss=0.65952\n",
      "iteration:120 \t \t loss=0.65182\n",
      "iteration:130 \t \t loss=0.64614\n",
      "iteration:140 \t \t loss=0.64127\n",
      "iteration:150 \t \t loss=0.6372\n",
      "iteration:160 \t \t loss=0.63396\n",
      "iteration:170 \t \t loss=0.63122\n",
      "iteration:180 \t \t loss=0.62894\n",
      "iteration:190 \t \t loss=0.6268\n",
      "iteration:200 \t \t loss=0.62496\n",
      "R:7 \t \t val_RMSE=0.87894\n",
      "iteration:10 \t \t loss=1.0083\n",
      "iteration:20 \t \t loss=0.84254\n",
      "iteration:30 \t \t loss=0.8074\n",
      "iteration:40 \t \t loss=0.78682\n",
      "iteration:50 \t \t loss=0.75615\n",
      "iteration:60 \t \t loss=0.7266\n",
      "iteration:70 \t \t loss=0.7027\n",
      "iteration:80 \t \t loss=0.68584\n",
      "iteration:90 \t \t loss=0.67138\n",
      "iteration:100 \t \t loss=0.66032\n",
      "iteration:110 \t \t loss=0.65106\n",
      "iteration:120 \t \t loss=0.64388\n",
      "iteration:130 \t \t loss=0.63771\n",
      "iteration:140 \t \t loss=0.63266\n",
      "iteration:150 \t \t loss=0.62846\n",
      "iteration:160 \t \t loss=0.62489\n",
      "iteration:170 \t \t loss=0.62192\n",
      "iteration:180 \t \t loss=0.61924\n",
      "iteration:190 \t \t loss=0.61667\n",
      "iteration:200 \t \t loss=0.61454\n",
      "R:8 \t \t val_RMSE=0.88688\n",
      "iteration:10 \t \t loss=1.0068\n",
      "iteration:20 \t \t loss=0.83944\n",
      "iteration:30 \t \t loss=0.8075\n",
      "iteration:40 \t \t loss=0.78174\n",
      "iteration:50 \t \t loss=0.75126\n",
      "iteration:60 \t \t loss=0.7189\n",
      "iteration:70 \t \t loss=0.6918\n",
      "iteration:80 \t \t loss=0.67303\n",
      "iteration:90 \t \t loss=0.65744\n",
      "iteration:100 \t \t loss=0.64679\n",
      "iteration:110 \t \t loss=0.63797\n",
      "iteration:120 \t \t loss=0.63081\n",
      "iteration:130 \t \t loss=0.62519\n",
      "iteration:140 \t \t loss=0.61959\n",
      "iteration:150 \t \t loss=0.61536\n",
      "iteration:160 \t \t loss=0.61132\n",
      "iteration:170 \t \t loss=0.60809\n",
      "iteration:180 \t \t loss=0.60478\n",
      "iteration:190 \t \t loss=0.60256\n",
      "iteration:200 \t \t loss=0.60037\n",
      "R:9 \t \t val_RMSE=0.89072\n",
      "iteration:10 \t \t loss=1.0095\n",
      "iteration:20 \t \t loss=0.83788\n",
      "iteration:30 \t \t loss=0.80209\n",
      "iteration:40 \t \t loss=0.776\n",
      "iteration:50 \t \t loss=0.73966\n",
      "iteration:60 \t \t loss=0.70861\n",
      "iteration:70 \t \t loss=0.68388\n",
      "iteration:80 \t \t loss=0.66333\n",
      "iteration:90 \t \t loss=0.64889\n",
      "iteration:100 \t \t loss=0.63654\n",
      "iteration:110 \t \t loss=0.62669\n",
      "iteration:120 \t \t loss=0.61914\n",
      "iteration:130 \t \t loss=0.61278\n",
      "iteration:140 \t \t loss=0.60703\n",
      "iteration:150 \t \t loss=0.60283\n",
      "iteration:160 \t \t loss=0.59906\n",
      "iteration:170 \t \t loss=0.59608\n",
      "iteration:180 \t \t loss=0.59323\n",
      "iteration:190 \t \t loss=0.59093\n",
      "iteration:200 \t \t loss=0.58883\n",
      "R:10 \t \t val_RMSE=0.89283\n",
      "iteration:10 \t \t loss=1.0265\n",
      "iteration:20 \t \t loss=0.83542\n",
      "iteration:30 \t \t loss=0.80013\n",
      "iteration:40 \t \t loss=0.76865\n",
      "iteration:50 \t \t loss=0.7284\n",
      "iteration:60 \t \t loss=0.69588\n",
      "iteration:70 \t \t loss=0.67152\n",
      "iteration:80 \t \t loss=0.65312\n",
      "iteration:90 \t \t loss=0.638\n",
      "iteration:100 \t \t loss=0.62653\n",
      "iteration:110 \t \t loss=0.61822\n",
      "iteration:120 \t \t loss=0.60979\n",
      "iteration:130 \t \t loss=0.6039\n",
      "iteration:140 \t \t loss=0.59826\n",
      "iteration:150 \t \t loss=0.59368\n",
      "iteration:160 \t \t loss=0.58993\n",
      "iteration:170 \t \t loss=0.58633\n",
      "iteration:180 \t \t loss=0.58346\n",
      "iteration:190 \t \t loss=0.58094\n",
      "iteration:200 \t \t loss=0.57842\n",
      "R:11 \t \t val_RMSE=0.89868\n",
      "iteration:10 \t \t loss=1.0672\n",
      "iteration:20 \t \t loss=0.84928\n",
      "iteration:30 \t \t loss=0.80311\n",
      "iteration:40 \t \t loss=0.77747\n",
      "iteration:50 \t \t loss=0.73813\n",
      "iteration:60 \t \t loss=0.70059\n",
      "iteration:70 \t \t loss=0.67169\n",
      "iteration:80 \t \t loss=0.64908\n",
      "iteration:90 \t \t loss=0.63242\n",
      "iteration:100 \t \t loss=0.61952\n",
      "iteration:110 \t \t loss=0.60956\n",
      "iteration:120 \t \t loss=0.60119\n",
      "iteration:130 \t \t loss=0.59423\n",
      "iteration:140 \t \t loss=0.58824\n",
      "iteration:150 \t \t loss=0.58374\n",
      "iteration:160 \t \t loss=0.57937\n",
      "iteration:170 \t \t loss=0.57564\n",
      "iteration:180 \t \t loss=0.57273\n",
      "iteration:190 \t \t loss=0.57011\n",
      "iteration:200 \t \t loss=0.56786\n",
      "R:12 \t \t val_RMSE=0.90109\n",
      "iteration:10 \t \t loss=1.0566\n",
      "iteration:20 \t \t loss=0.84298\n",
      "iteration:30 \t \t loss=0.80226\n",
      "iteration:40 \t \t loss=0.7699\n",
      "iteration:50 \t \t loss=0.73002\n",
      "iteration:60 \t \t loss=0.69126\n",
      "iteration:70 \t \t loss=0.65989\n",
      "iteration:80 \t \t loss=0.63734\n",
      "iteration:90 \t \t loss=0.62043\n",
      "iteration:100 \t \t loss=0.6076\n",
      "iteration:110 \t \t loss=0.59673\n",
      "iteration:120 \t \t loss=0.58835\n",
      "iteration:130 \t \t loss=0.5818\n",
      "iteration:140 \t \t loss=0.57606\n",
      "iteration:150 \t \t loss=0.57119\n",
      "iteration:160 \t \t loss=0.5671\n",
      "iteration:170 \t \t loss=0.56392\n",
      "iteration:180 \t \t loss=0.56084\n",
      "iteration:190 \t \t loss=0.55814\n",
      "iteration:200 \t \t loss=0.55599\n"
     ]
    },
    {
     "name": "stdout",
     "output_type": "stream",
     "text": [
      "R:13 \t \t val_RMSE=0.90614\n",
      "iteration:10 \t \t loss=1.133\n",
      "iteration:20 \t \t loss=0.85556\n",
      "iteration:30 \t \t loss=0.80586\n",
      "iteration:40 \t \t loss=0.77378\n",
      "iteration:50 \t \t loss=0.72946\n",
      "iteration:60 \t \t loss=0.69129\n",
      "iteration:70 \t \t loss=0.6615\n",
      "iteration:80 \t \t loss=0.63707\n",
      "iteration:90 \t \t loss=0.61803\n",
      "iteration:100 \t \t loss=0.60421\n",
      "iteration:110 \t \t loss=0.59288\n",
      "iteration:120 \t \t loss=0.58403\n",
      "iteration:130 \t \t loss=0.57639\n",
      "iteration:140 \t \t loss=0.57044\n",
      "iteration:150 \t \t loss=0.56495\n",
      "iteration:160 \t \t loss=0.5608\n",
      "iteration:170 \t \t loss=0.55678\n",
      "iteration:180 \t \t loss=0.55361\n",
      "iteration:190 \t \t loss=0.55076\n",
      "iteration:200 \t \t loss=0.54828\n",
      "R:14 \t \t val_RMSE=0.90926\n",
      "iteration:10 \t \t loss=  1.2\n",
      "iteration:20 \t \t loss=0.86927\n",
      "iteration:30 \t \t loss=0.80608\n",
      "iteration:40 \t \t loss=0.77231\n",
      "iteration:50 \t \t loss=0.73171\n",
      "iteration:60 \t \t loss=0.69127\n",
      "iteration:70 \t \t loss=0.66013\n",
      "iteration:80 \t \t loss=0.63476\n",
      "iteration:90 \t \t loss=0.61608\n",
      "iteration:100 \t \t loss=0.60038\n",
      "iteration:110 \t \t loss=0.58852\n",
      "iteration:120 \t \t loss=0.5797\n",
      "iteration:130 \t \t loss=0.57252\n",
      "iteration:140 \t \t loss=0.56547\n",
      "iteration:150 \t \t loss=0.55968\n",
      "iteration:160 \t \t loss=0.55485\n",
      "iteration:170 \t \t loss=0.55078\n",
      "iteration:180 \t \t loss=0.5472\n",
      "iteration:190 \t \t loss=0.54401\n",
      "iteration:200 \t \t loss=0.54119\n",
      "R:15 \t \t val_RMSE=0.91696\n",
      "iteration:10 \t \t loss=1.1504\n",
      "iteration:20 \t \t loss=0.84635\n",
      "iteration:30 \t \t loss=0.80129\n",
      "iteration:40 \t \t loss=0.76755\n",
      "iteration:50 \t \t loss=0.72222\n",
      "iteration:60 \t \t loss=0.68106\n",
      "iteration:70 \t \t loss=0.64914\n",
      "iteration:80 \t \t loss=0.62626\n",
      "iteration:90 \t \t loss=0.60678\n",
      "iteration:100 \t \t loss=0.59205\n",
      "iteration:110 \t \t loss=0.58052\n",
      "iteration:120 \t \t loss=0.57039\n",
      "iteration:130 \t \t loss=0.56255\n",
      "iteration:140 \t \t loss=0.55624\n",
      "iteration:150 \t \t loss=0.55087\n",
      "iteration:160 \t \t loss=0.54626\n",
      "iteration:170 \t \t loss=0.54231\n",
      "iteration:180 \t \t loss=0.53867\n",
      "iteration:190 \t \t loss=0.53515\n",
      "iteration:200 \t \t loss=0.53256\n",
      "R:16 \t \t val_RMSE=0.92243\n",
      "iteration:10 \t \t loss=1.2297\n",
      "iteration:20 \t \t loss=0.88116\n",
      "iteration:30 \t \t loss=0.80583\n",
      "iteration:40 \t \t loss=0.76847\n",
      "iteration:50 \t \t loss=0.72004\n",
      "iteration:60 \t \t loss=0.67553\n",
      "iteration:70 \t \t loss=0.64525\n",
      "iteration:80 \t \t loss=0.62158\n",
      "iteration:90 \t \t loss=0.60236\n",
      "iteration:100 \t \t loss=0.58733\n",
      "iteration:110 \t \t loss=0.57512\n",
      "iteration:120 \t \t loss=0.5658\n",
      "iteration:130 \t \t loss=0.55785\n",
      "iteration:140 \t \t loss=0.5508\n",
      "iteration:150 \t \t loss=0.54514\n",
      "iteration:160 \t \t loss=0.54026\n",
      "iteration:170 \t \t loss=0.53627\n",
      "iteration:180 \t \t loss=0.53261\n",
      "iteration:190 \t \t loss=0.52957\n",
      "iteration:200 \t \t loss=0.52695\n",
      "R:17 \t \t val_RMSE=0.92757\n",
      "iteration:10 \t \t loss=1.3206\n",
      "iteration:20 \t \t loss=0.89487\n",
      "iteration:30 \t \t loss=0.8126\n",
      "iteration:40 \t \t loss=0.78106\n",
      "iteration:50 \t \t loss=0.73564\n",
      "iteration:60 \t \t loss=0.68805\n",
      "iteration:70 \t \t loss=0.6487\n",
      "iteration:80 \t \t loss=0.62116\n",
      "iteration:90 \t \t loss=0.59822\n",
      "iteration:100 \t \t loss=0.5812\n",
      "iteration:110 \t \t loss=0.56762\n",
      "iteration:120 \t \t loss=0.5567\n",
      "iteration:130 \t \t loss=0.54808\n",
      "iteration:140 \t \t loss=0.54132\n",
      "iteration:150 \t \t loss=0.53518\n",
      "iteration:160 \t \t loss=0.53034\n",
      "iteration:170 \t \t loss=0.52574\n",
      "iteration:180 \t \t loss=0.52228\n",
      "iteration:190 \t \t loss=0.51899\n",
      "iteration:200 \t \t loss=0.51613\n",
      "R:18 \t \t val_RMSE=0.9245\n",
      "iteration:10 \t \t loss=1.3715\n",
      "iteration:20 \t \t loss=0.88708\n",
      "iteration:30 \t \t loss=0.80895\n",
      "iteration:40 \t \t loss=0.77268\n",
      "iteration:50 \t \t loss=0.72356\n",
      "iteration:60 \t \t loss=0.67847\n",
      "iteration:70 \t \t loss=0.64159\n",
      "iteration:80 \t \t loss=0.61391\n",
      "iteration:90 \t \t loss=0.59283\n",
      "iteration:100 \t \t loss=0.57589\n",
      "iteration:110 \t \t loss=0.56265\n",
      "iteration:120 \t \t loss=0.5519\n",
      "iteration:130 \t \t loss=0.54267\n",
      "iteration:140 \t \t loss=0.53508\n",
      "iteration:150 \t \t loss=0.52865\n",
      "iteration:160 \t \t loss=0.52329\n",
      "iteration:170 \t \t loss=0.51895\n",
      "iteration:180 \t \t loss=0.51494\n",
      "iteration:190 \t \t loss=0.51143\n",
      "iteration:200 \t \t loss=0.50835\n",
      "R:19 \t \t val_RMSE=0.93102\n"
     ]
    }
   ],
   "source": [
    "du,df=train_matrix.shape\n",
    "val_error={}\n",
    "\n",
    "for i in range(1,20):\n",
    "    iteration_index = 0\n",
    "    \n",
    "    np.random.seed(1)\n",
    "    film_ = np.random.normal(0,1, size=(i,df)) #each col represent i parameters of each film \n",
    "    user_ = np.random.normal(0,1, size=(du,i)) #each row represent i parameters of each user\n",
    "\n",
    "    # make them positives\n",
    "    film = make_positive(film_)\n",
    "    user = make_positive(user_)\n",
    "\n",
    "    # get the dimensions\n",
    "    film_dimx, film_dimy = film.shape\n",
    "    user_dimx, user_dimy = user.shape\n",
    "    param_dim = film_dimx*film_dimy + user_dimx*user_dimy\n",
    "\n",
    "    # generate a random initial parameter\n",
    "    param_init = np.random.normal(0,1,size=param_dim)\n",
    "    \n",
    "    traj = scipy.optimize.minimize(fun = loss_NMF_cv, #function to minimize\n",
    "                                    x0 = param_init, #initial guess\n",
    "                                    method='L-BFGS-B',  #we want to use L-BFGS\n",
    "                                    jac=loss_NMF_grad_wrapper_cv, #function that computes the gradient\n",
    "                                    callback=save_traj_cv, #a function used to save some results for later plotting\n",
    "                                    tol=10**-10,\n",
    "                                    options={\"maxiter\":200})  #maximum number of iteration\n",
    "    #extract final parameter found by LBFGS\n",
    "    final_param =traj[\"x\"]\n",
    "    film_, user_ = extract_film_and_user(final_param)\n",
    "\n",
    "    # make it positive by applying the function log(1+exp(x))\n",
    "    film = make_positive(film_).reshape(i,df)\n",
    "    user = make_positive(user_).reshape(du,i)\n",
    "    val_error[i]=val_RMSE(user@film,val_matrix)\n",
    "    print(f\"R:{i} \\t \\t val_RMSE={val_RMSE(user@film,val_matrix):5.5}\")"
   ]
  },
  {
   "cell_type": "markdown",
   "id": "b9dec011",
   "metadata": {},
   "source": [
    "### Plot Validation RMSE against k"
   ]
  },
  {
   "cell_type": "code",
   "execution_count": 23,
   "id": "17c886fe",
   "metadata": {},
   "outputs": [],
   "source": [
    "val_rmse=pd.DataFrame(val_error.values(),index=val_error.keys()) "
   ]
  },
  {
   "cell_type": "code",
   "execution_count": 24,
   "id": "2d5be6e6",
   "metadata": {},
   "outputs": [
    {
     "data": {
      "image/png": "[encoded data removed]",
      "text/plain": [
       "<Figure size 432x288 with 1 Axes>"
      ]
     },
     "metadata": {
      "needs_background": "light"
     },
     "output_type": "display_data"
    }
   ],
   "source": [
    "plt.plot(val_rmse[0])\n",
    "plt.xticks(val_rmse.index)\n",
    "plt.xlabel(\"Number of k features\")\n",
    "plt.ylabel(\"RMSE\")\n",
    "plt.show()"
   ]
  },
  {
   "cell_type": "markdown",
   "id": "277420ac",
   "metadata": {},
   "source": [
    "## Using k=4 for Our Final Model"
   ]
  },
  {
   "cell_type": "code",
   "execution_count": 25,
   "id": "daa82d38",
   "metadata": {},
   "outputs": [],
   "source": [
    "nu,nf=rating_matrix.shape\n",
    "R = 4 #number of features k\n",
    "np.random.seed(1)\n",
    "film_ = np.random.normal(0,1, size=(R,nf)) #each col represent 4 parameters of each film \n",
    "user_ = np.random.normal(0,1, size=(nu,R)) #each row represent 4 parameters of each user\n",
    "\n",
    "film = make_positive(film_)\n",
    "user = make_positive(user_)\n",
    "\n",
    "film_dimx, film_dimy = film.shape\n",
    "user_dimx, user_dimy = user.shape\n",
    "\n",
    "param_dim = film_dimx*film_dimy + user_dimx*user_dimy\n",
    "\n",
    "param_init = np.random.normal(0,1,size=param_dim)\n",
    "\n",
    "@jax.jit\n",
    "def extract_film_and_user(param):\n",
    "    film = param[:(film_dimx*film_dimy)]\n",
    "    user = param[(film_dimx*film_dimy):]\n",
    "    return film, user\n",
    "\n",
    "def MSE(R,A):\n",
    "    error=(A-R)[user_train_list.astype(int), film_train_list.astype(int)] #only have a subset of info\n",
    "    return jnp.mean(error**2)\n",
    "\n",
    "@jax.jit\n",
    "def loss_NMF(param):\n",
    "    film_, user_ = extract_film_and_user(param)\n",
    "    \n",
    "    film = make_positive(film_).reshape(R,nf)\n",
    "    user = make_positive(user_).reshape(nu,R)\n",
    "    \n",
    "    rating_matrix_reconstructed = user @ film\n",
    "    \n",
    "    return MSE(rating_matrix_reconstructed,rating_matrix) #for entire train set\n",
    "    \n",
    "\n",
    "loss_NMF_grad = jax.jit(jax.grad(loss_NMF))\n",
    "\n",
    "def loss_NMF_grad_wrapper(param):\n",
    "    return np.array(loss_NMF_grad(param))\n",
    "\n"
   ]
  },
  {
   "cell_type": "code",
   "execution_count": 26,
   "id": "326dfc34",
   "metadata": {},
   "outputs": [
    {
     "name": "stdout",
     "output_type": "stream",
     "text": [
      "iteration:10 \t \t loss=1.0087\n",
      "iteration:20 \t \t loss=0.85032\n",
      "iteration:30 \t \t loss=0.82075\n",
      "iteration:40 \t \t loss=0.80726\n",
      "iteration:50 \t \t loss=0.78974\n",
      "iteration:60 \t \t loss=0.76792\n",
      "iteration:70 \t \t loss=0.75325\n",
      "iteration:80 \t \t loss=0.74061\n",
      "iteration:90 \t \t loss=0.7311\n",
      "iteration:100 \t \t loss=0.72288\n",
      "iteration:110 \t \t loss=0.71627\n",
      "iteration:120 \t \t loss=0.70999\n",
      "iteration:130 \t \t loss=0.70482\n",
      "iteration:140 \t \t loss=0.70045\n",
      "iteration:150 \t \t loss=0.69669\n",
      "iteration:160 \t \t loss=0.69383\n",
      "iteration:170 \t \t loss=0.69151\n",
      "iteration:180 \t \t loss=0.68956\n",
      "iteration:190 \t \t loss=0.68799\n",
      "iteration:200 \t \t loss=0.68677\n"
     ]
    }
   ],
   "source": [
    "loss_history = []  #to save the loss trajectory\n",
    "time_history = []  #to save the compute time\n",
    "iteration_index = 0\n",
    "\n",
    "def save_traj(param):\n",
    "    \"\"\" a function that saves a few statistics for later analysis\"\"\"\n",
    "    global iteration_index\n",
    "    iteration_index += 1\n",
    "    current_loss = loss_NMF(param)\n",
    "\n",
    "    # display the loss every 10 iterations\n",
    "    if iteration_index % 10 == 0:\n",
    "        print(f\"iteration:{iteration_index} \\t \\t loss={current_loss:5.5}\")\n",
    "    \n",
    "    # record everything\n",
    "    loss_history.append(jnp.sqrt(current_loss))\n",
    "    time_history.append(time.time() - start)\n",
    "\n",
    "start = time.time()\n",
    "traj = scipy.optimize.minimize(fun = loss_NMF, #function to minimize\n",
    "                                x0 = param_init, #initial guess\n",
    "                                method='L-BFGS-B',  #we want to use L-BFGS\n",
    "                                jac=loss_NMF_grad_wrapper, #function that computes the gradient\n",
    "                                callback=save_traj, #a function used to save some results for later plotting\n",
    "                                tol=10**-10,\n",
    "                                options={\"maxiter\":200})  #maximum number of iteration"
   ]
  },
  {
   "cell_type": "markdown",
   "id": "bcda3124",
   "metadata": {},
   "source": [
    "### Plot Loss History against Time History"
   ]
  },
  {
   "cell_type": "code",
   "execution_count": 27,
   "id": "9d1cdf10",
   "metadata": {},
   "outputs": [
    {
     "data": {
      "text/plain": [
       "Text(0, 0.5, 'RMSE reconstruction')"
      ]
     },
     "execution_count": 27,
     "metadata": {},
     "output_type": "execute_result"
    },
    {
     "data": {
      "image/png": "[encoded data removed]",
      "text/plain": [
       "<Figure size 432x288 with 1 Axes>"
      ]
     },
     "metadata": {
      "needs_background": "light"
     },
     "output_type": "display_data"
    }
   ],
   "source": [
    "plt.plot(time_history, loss_history, \"-^\")\n",
    "plt.yscale(\"log\")\n",
    "plt.grid(True)\n",
    "plt.xlabel(\"time\", fontsize=20)\n",
    "plt.ylabel(\"RMSE reconstruction\", fontsize=20)\n"
   ]
  },
  {
   "cell_type": "markdown",
   "id": "bd20d343",
   "metadata": {},
   "source": [
    "### Calculate Test RMSE"
   ]
  },
  {
   "cell_type": "code",
   "execution_count": 28,
   "id": "5896ad73",
   "metadata": {},
   "outputs": [
    {
     "data": {
      "text/plain": [
       "DeviceArray(0.87253575, dtype=float64)"
      ]
     },
     "execution_count": 28,
     "metadata": {},
     "output_type": "execute_result"
    }
   ],
   "source": [
    "#extract final parameter found by LBFGS\n",
    "final_param =traj[\"x\"]\n",
    "film_, user_ = extract_film_and_user(final_param)\n",
    "\n",
    "# make it positive by applying the function log(1+exp(x))\n",
    "film = make_positive(film_).reshape(R,nf)\n",
    "user = make_positive(user_).reshape(nu,R)\n",
    "\n",
    "def test_RMSE(R,A):\n",
    "    error=(A-R)[user_test_list.astype(int), film_test_list.astype(int)] #only have a subset of info\n",
    "    return jnp.sqrt(jnp.mean(error**2))\n",
    "\n",
    "test_RMSE(user@film,testing_matrix)"
   ]
  },
  {
   "cell_type": "markdown",
   "id": "e6d47bcc",
   "metadata": {},
   "source": [
    "# Probabilistic Matrix Factorization L-BFGS"
   ]
  },
  {
   "cell_type": "markdown",
   "id": "7961e807",
   "metadata": {},
   "source": [
    "## Functions Required"
   ]
  },
  {
   "cell_type": "code",
   "execution_count": 34,
   "id": "71d2eccc",
   "metadata": {},
   "outputs": [],
   "source": [
    "@jax.jit\n",
    "def loss_PMF_cv(param):\n",
    "    \n",
    "    films_,users_ = extract_film_and_user(param)\n",
    "    \n",
    "    users = users_.reshape(du,i)\n",
    "    films = films_.reshape(i,df)\n",
    "    \n",
    "    predicted = users @ films\n",
    "    error=(predicted-train_matrix)[u_list.astype(int), v_list.astype(int)]\n",
    "    error_sq=error**2\n",
    "    \n",
    "    return 0.5*(jnp.sum(error_sq)+j*jnp.sum(users@users.T)+k*jnp.sum(films@films.T))\n",
    "    \n",
    "\n",
    "# automatic differentiation magic here!\n",
    "loss_PMF_grad_cv = jax.jit(jax.grad(loss_PMF_cv))\n",
    "\n",
    "#let's create a wrapper to make sure the output is a standard numpy gradient\n",
    "def loss_PMF_grad_wrapper_cv(param):\n",
    "    return np.array(loss_PMF_grad_cv(param))"
   ]
  },
  {
   "cell_type": "code",
   "execution_count": 35,
   "id": "c6e1915a",
   "metadata": {},
   "outputs": [],
   "source": [
    "def save_traj_cv_pmf(param):\n",
    "    \"\"\" a function that saves a few statistics for later analysis\"\"\"\n",
    "    global iteration_index\n",
    "    iteration_index += 1\n",
    "    current_loss = loss_PMF_cv(param)\n",
    "\n",
    "    # display the loss every 100 iterations\n",
    "    if iteration_index % 100 == 0:\n",
    "        print(f\"iteration:{iteration_index} \\t \\t loss={current_loss:5.5}\")"
   ]
  },
  {
   "cell_type": "markdown",
   "id": "8befad65",
   "metadata": {},
   "source": [
    "## Cross Validation to find optimal k with $\\lambda{u} = 0.01$ $\\lambda{v} = 0.01$"
   ]
  },
  {
   "cell_type": "code",
   "execution_count": 36,
   "id": "8e41cb91",
   "metadata": {},
   "outputs": [
    {
     "name": "stdout",
     "output_type": "stream",
     "text": [
      "iteration:100 \t \t loss=3.2552e+05\n",
      "iteration:200 \t \t loss=3.2151e+05\n",
      "R:1 \t \t val_RMSE=0.93601\n",
      "iteration:100 \t \t loss=3.1759e+05\n",
      "iteration:200 \t \t loss=2.9644e+05\n",
      "R:2 \t \t val_RMSE=0.90339\n",
      "iteration:100 \t \t loss=3.0323e+05\n",
      "iteration:200 \t \t loss=2.8385e+05\n",
      "R:3 \t \t val_RMSE=0.89603\n",
      "iteration:100 \t \t loss=2.9682e+05\n",
      "iteration:200 \t \t loss=2.7511e+05\n",
      "R:4 \t \t val_RMSE=0.89507\n",
      "iteration:100 \t \t loss=2.8668e+05\n",
      "iteration:200 \t \t loss=2.6439e+05\n",
      "R:5 \t \t val_RMSE=0.89485\n",
      "iteration:100 \t \t loss=2.8512e+05\n",
      "iteration:200 \t \t loss=2.5898e+05\n",
      "R:6 \t \t val_RMSE=0.90094\n",
      "iteration:100 \t \t loss=2.8029e+05\n",
      "iteration:200 \t \t loss=2.562e+05\n",
      "R:7 \t \t val_RMSE=0.90356\n",
      "iteration:100 \t \t loss=2.7694e+05\n",
      "iteration:200 \t \t loss=2.5265e+05\n",
      "R:8 \t \t val_RMSE=0.91656\n",
      "iteration:100 \t \t loss=2.7641e+05\n",
      "iteration:200 \t \t loss=2.4804e+05\n",
      "R:9 \t \t val_RMSE=0.92173\n",
      "iteration:100 \t \t loss=2.7694e+05\n",
      "iteration:200 \t \t loss=2.483e+05\n",
      "R:10 \t \t val_RMSE=0.93188\n"
     ]
    }
   ],
   "source": [
    "val_error_pmf={}\n",
    "du,df=train_matrix.shape\n",
    "j=0.01\n",
    "k=0.01\n",
    "for i in range(1,11):\n",
    "\n",
    "    iteration_index=0\n",
    "\n",
    "    R=i #number of features k \n",
    "    np.random.seed(1)\n",
    "\n",
    "    film_ = np.random.normal(0,1, size=(i,df)) \n",
    "    user_ = np.random.normal(0,1, size=(du,i))\n",
    "    film_dimx, film_dimy = film_.shape\n",
    "    user_dimx, user_dimy = user_.shape\n",
    "\n",
    "    param_dim = film_dimx*film_dimy + user_dimx*user_dimy\n",
    "\n",
    "    # generate a random initial parameter\n",
    "    param_init = np.random.normal(0,1,size=param_dim)\n",
    "\n",
    "    traj = scipy.optimize.minimize(fun = loss_PMF_cv, #function to minimize\n",
    "                                    x0 = param_init, #initial guess\n",
    "                                    method='L-BFGS-B',  #we want to use L-BFGS\n",
    "                                    jac=loss_PMF_grad_wrapper_cv, #function that computes the gradient\n",
    "                                    callback=save_traj_cv_pmf, #a function used to save some results for later plotting\n",
    "                                    tol=10**-10,\n",
    "                                    options={\"maxiter\":200})  #maximum number of iteration\n",
    "    final_param =traj[\"x\"]\n",
    "    film_, user_ = extract_film_and_user(final_param)\n",
    "\n",
    "    film = film_.reshape(i,df)\n",
    "    user = user_.reshape(du,i)\n",
    "\n",
    "    val_error_pmf[i]=val_RMSE(user@film,val_matrix)\n",
    "    print(f\"R:{i} \\t \\t val_RMSE={val_RMSE(user@film,val_matrix):5.5}\")"
   ]
  },
  {
   "cell_type": "markdown",
   "id": "37ad8bc7",
   "metadata": {},
   "source": [
    "### Plot Validation RMSE against k"
   ]
  },
  {
   "cell_type": "code",
   "execution_count": 37,
   "id": "1013333e",
   "metadata": {},
   "outputs": [],
   "source": [
    "val_rmse_pmf=pd.DataFrame(val_error_pmf.values(),index=val_error_pmf.keys()) "
   ]
  },
  {
   "cell_type": "code",
   "execution_count": 38,
   "id": "9e527beb",
   "metadata": {},
   "outputs": [
    {
     "data": {
      "image/png": "[encoded data removed]",
      "text/plain": [
       "<Figure size 432x288 with 1 Axes>"
      ]
     },
     "metadata": {
      "needs_background": "light"
     },
     "output_type": "display_data"
    }
   ],
   "source": [
    "plt.plot(val_rmse_pmf[0])\n",
    "plt.xticks(val_rmse_pmf.index)\n",
    "plt.xlabel(\"Number of k features\")\n",
    "plt.ylabel(\"RMSE\")\n",
    "plt.show()"
   ]
  },
  {
   "cell_type": "markdown",
   "id": "a4afe56e",
   "metadata": {},
   "source": [
    "## Cross Validation to find optimal k with $\\lambda{u} = 0.001$ $\\lambda{v} = 0.001$"
   ]
  },
  {
   "cell_type": "code",
   "execution_count": 39,
   "id": "3eff4b36",
   "metadata": {},
   "outputs": [],
   "source": [
    "@jax.jit\n",
    "def loss_PMF_cv(param):\n",
    "    \n",
    "    films_,users_ = extract_film_and_user(param)\n",
    "    \n",
    "    users = users_.reshape(du,i)\n",
    "    films = films_.reshape(i,df)\n",
    "    \n",
    "    predicted = users @ films\n",
    "    error=(predicted-train_matrix)[u_list.astype(int), v_list.astype(int)]\n",
    "    error_sq=error**2\n",
    "    \n",
    "    return 0.5*(jnp.sum(error_sq)+j*jnp.sum(users@users.T)+k*jnp.sum(films@films.T))\n",
    "\n",
    "\n",
    "# automatic differentiation magic here!\n",
    "loss_PMF_grad_cv = jax.jit(jax.grad(loss_PMF_cv))\n",
    "\n",
    "#let's create a wrapper to make sure the output is a standard numpy gradient\n",
    "def loss_PMF_grad_wrapper_cv(param):\n",
    "    return np.array(loss_PMF_grad_cv(param))"
   ]
  },
  {
   "cell_type": "code",
   "execution_count": 40,
   "id": "5cbdcc70",
   "metadata": {},
   "outputs": [],
   "source": [
    "def save_traj_cv_pmf(param):\n",
    "    \"\"\" a function that saves a few statistics for later analysis\"\"\"\n",
    "    global iteration_index\n",
    "    iteration_index += 1\n",
    "    current_loss = loss_PMF_cv(param)\n",
    "\n",
    "    # display the loss every 100 iterations\n",
    "    if iteration_index % 100 == 0:\n",
    "        print(f\"iteration:{iteration_index} \\t \\t loss={current_loss:5.5}\")"
   ]
  },
  {
   "cell_type": "code",
   "execution_count": 41,
   "id": "d046719b",
   "metadata": {},
   "outputs": [
    {
     "name": "stdout",
     "output_type": "stream",
     "text": [
      "iteration:100 \t \t loss=3.0458e+05\n",
      "iteration:200 \t \t loss=2.9907e+05\n",
      "R:1 \t \t val_RMSE=0.9174\n",
      "iteration:100 \t \t loss=2.8329e+05\n",
      "iteration:200 \t \t loss=2.7545e+05\n",
      "R:2 \t \t val_RMSE=0.88589\n",
      "iteration:100 \t \t loss=2.7079e+05\n",
      "iteration:200 \t \t loss=2.6305e+05\n",
      "R:3 \t \t val_RMSE=0.88459\n",
      "iteration:100 \t \t loss=2.6323e+05\n",
      "iteration:200 \t \t loss=2.5249e+05\n",
      "R:4 \t \t val_RMSE=0.88186\n",
      "iteration:100 \t \t loss=2.5502e+05\n",
      "iteration:200 \t \t loss=2.4372e+05\n",
      "R:5 \t \t val_RMSE=0.88304\n",
      "iteration:100 \t \t loss=2.4931e+05\n",
      "iteration:200 \t \t loss=2.3541e+05\n",
      "R:6 \t \t val_RMSE=0.88663\n",
      "iteration:100 \t \t loss=2.4498e+05\n",
      "iteration:200 \t \t loss=2.304e+05\n",
      "R:7 \t \t val_RMSE=0.8949\n",
      "iteration:100 \t \t loss=2.4082e+05\n",
      "iteration:200 \t \t loss=2.2413e+05\n",
      "R:8 \t \t val_RMSE=0.90636\n",
      "iteration:100 \t \t loss=2.3815e+05\n",
      "iteration:200 \t \t loss=2.2059e+05\n",
      "R:9 \t \t val_RMSE=0.91304\n",
      "iteration:100 \t \t loss=2.3661e+05\n",
      "iteration:200 \t \t loss=2.1763e+05\n",
      "R:10 \t \t val_RMSE=0.92554\n"
     ]
    }
   ],
   "source": [
    "val_error_pmf1={}\n",
    "du,df=train_matrix.shape\n",
    "j=0.001\n",
    "k=0.001\n",
    "for i in range(1,11):\n",
    "\n",
    "    iteration_index=0\n",
    "\n",
    "    R=i #number of features k \n",
    "    np.random.seed(1)\n",
    "\n",
    "    film_ = np.random.normal(0,1, size=(i,df)) \n",
    "    user_ = np.random.normal(0,1, size=(du,i))\n",
    "    film_dimx, film_dimy = film_.shape\n",
    "    user_dimx, user_dimy = user_.shape\n",
    "\n",
    "    param_dim = film_dimx*film_dimy + user_dimx*user_dimy\n",
    "\n",
    "    # generate a random initial parameter\n",
    "    param_init = np.random.normal(0,1,size=param_dim)\n",
    "\n",
    "    traj = scipy.optimize.minimize(fun = loss_PMF_cv, #function to minimize\n",
    "                                    x0 = param_init, #initial guess\n",
    "                                    method='L-BFGS-B',  #we want to use L-BFGS\n",
    "                                    jac=loss_PMF_grad_wrapper_cv, #function that computes the gradient\n",
    "                                    callback=save_traj_cv_pmf, #a function used to save some results for later plotting\n",
    "                                    tol=10**-10,\n",
    "                                    options={\"maxiter\":200})  #maximum number of iteration\n",
    "    final_param =traj[\"x\"]\n",
    "    film_, user_ = extract_film_and_user(final_param)\n",
    "\n",
    "    film = film_.reshape(i,df)\n",
    "    user = user_.reshape(du,i)\n",
    "\n",
    "    val_error_pmf1[i]=val_RMSE(user@film,val_matrix)\n",
    "    print(f\"R:{i} \\t \\t val_RMSE={val_RMSE(user@film,val_matrix):5.5}\")"
   ]
  },
  {
   "cell_type": "markdown",
   "id": "f2f0027e",
   "metadata": {},
   "source": [
    "### Plot Validation RMSE against k"
   ]
  },
  {
   "cell_type": "code",
   "execution_count": 42,
   "id": "f22a4440",
   "metadata": {},
   "outputs": [],
   "source": [
    "val_rmse_pmf1=pd.DataFrame(val_error_pmf1.values(),index=val_error_pmf1.keys()) "
   ]
  },
  {
   "cell_type": "code",
   "execution_count": 43,
   "id": "032ea1f4",
   "metadata": {},
   "outputs": [
    {
     "data": {
      "image/png": "[encoded data removed]",
      "text/plain": [
       "<Figure size 432x288 with 1 Axes>"
      ]
     },
     "metadata": {
      "needs_background": "light"
     },
     "output_type": "display_data"
    }
   ],
   "source": [
    "plt.plot(val_rmse_pmf1[0])\n",
    "plt.xticks(val_rmse_pmf1.index)\n",
    "plt.xlabel(\"Number of k features\")\n",
    "plt.ylabel(\"RMSE\")\n",
    "plt.show()"
   ]
  },
  {
   "cell_type": "markdown",
   "id": "53dc9c23",
   "metadata": {},
   "source": [
    "## Cross Validation to find optimal k with $\\lambda{u} = 0.0001$ $\\lambda{v} = 0.0001$"
   ]
  },
  {
   "cell_type": "code",
   "execution_count": 44,
   "id": "598b073a",
   "metadata": {},
   "outputs": [],
   "source": [
    "@jax.jit\n",
    "def loss_PMF_cv(param):\n",
    "    \n",
    "    films_,users_ = extract_film_and_user(param)\n",
    "    \n",
    "    users = users_.reshape(du,i)\n",
    "    films = films_.reshape(i,df)\n",
    "    \n",
    "    predicted = users @ films\n",
    "    error=(predicted-train_matrix)[u_list.astype(int), v_list.astype(int)]\n",
    "    error_sq=error**2\n",
    "    \n",
    "    return 0.5*(jnp.sum(error_sq)+j*jnp.sum(users@users.T)+k*jnp.sum(films@films.T))\n",
    "\n",
    "\n",
    "# automatic differentiation magic here!\n",
    "loss_PMF_grad_cv = jax.jit(jax.grad(loss_PMF_cv))\n",
    "\n",
    "#let's create a wrapper to make sure the output is a standard numpy gradient\n",
    "def loss_PMF_grad_wrapper_cv(param):\n",
    "    return np.array(loss_PMF_grad_cv(param))"
   ]
  },
  {
   "cell_type": "code",
   "execution_count": 45,
   "id": "f2473f61",
   "metadata": {},
   "outputs": [],
   "source": [
    "def save_traj_cv_pmf(param):\n",
    "    \"\"\" a function that saves a few statistics for later analysis\"\"\"\n",
    "    global iteration_index\n",
    "    iteration_index += 1\n",
    "    current_loss = loss_PMF_cv(param)\n",
    "\n",
    "    if iteration_index % 100 == 0:\n",
    "        print(f\"iteration:{iteration_index} \\t \\t loss={current_loss:5.5}\")"
   ]
  },
  {
   "cell_type": "code",
   "execution_count": 46,
   "id": "db695ac9",
   "metadata": {},
   "outputs": [
    {
     "name": "stdout",
     "output_type": "stream",
     "text": [
      "iteration:100 \t \t loss=2.9594e+05\n",
      "iteration:200 \t \t loss=2.9443e+05\n",
      "R:1 \t \t val_RMSE=0.91101\n",
      "iteration:100 \t \t loss=2.723e+05\n",
      "iteration:200 \t \t loss=2.6909e+05\n",
      "R:2 \t \t val_RMSE=0.88444\n",
      "iteration:100 \t \t loss=2.6006e+05\n",
      "iteration:200 \t \t loss=2.5682e+05\n",
      "R:3 \t \t val_RMSE=0.88442\n",
      "iteration:100 \t \t loss=2.507e+05\n",
      "iteration:200 \t \t loss=2.4497e+05\n",
      "R:4 \t \t val_RMSE=0.88037\n",
      "iteration:100 \t \t loss=2.4257e+05\n",
      "iteration:200 \t \t loss=2.3598e+05\n",
      "R:5 \t \t val_RMSE=0.88394\n",
      "iteration:100 \t \t loss=2.3611e+05\n",
      "iteration:200 \t \t loss=2.2712e+05\n",
      "R:6 \t \t val_RMSE=0.88815\n",
      "iteration:100 \t \t loss=2.3074e+05\n",
      "iteration:200 \t \t loss=2.2069e+05\n",
      "R:7 \t \t val_RMSE=0.89524\n",
      "iteration:100 \t \t loss=2.2555e+05\n",
      "iteration:200 \t \t loss=2.1416e+05\n",
      "R:8 \t \t val_RMSE=0.90487\n",
      "iteration:100 \t \t loss=2.2166e+05\n",
      "iteration:200 \t \t loss=2.0855e+05\n",
      "R:9 \t \t val_RMSE=0.92007\n",
      "iteration:100 \t \t loss=2.1988e+05\n",
      "iteration:200 \t \t loss=2.0513e+05\n",
      "R:10 \t \t val_RMSE=0.93279\n"
     ]
    }
   ],
   "source": [
    "val_error_pmf2={}\n",
    "du,df=train_matrix.shape\n",
    "j=0.0001\n",
    "k=0.0001\n",
    "for i in range(1,11):\n",
    "\n",
    "    iteration_index=0\n",
    "\n",
    "    R=i #number of features k\n",
    "    np.random.seed(1)\n",
    "\n",
    "    film_ = np.random.normal(0,1, size=(i,df)) \n",
    "    user_ = np.random.normal(0,1, size=(du,i))\n",
    "    film_dimx, film_dimy = film_.shape\n",
    "    user_dimx, user_dimy = user_.shape\n",
    "\n",
    "    param_dim = film_dimx*film_dimy + user_dimx*user_dimy\n",
    "\n",
    "    # generate a random initial parameter\n",
    "    param_init = np.random.normal(0,1,size=param_dim)\n",
    "\n",
    "    traj = scipy.optimize.minimize(fun = loss_PMF_cv, #function to minimize\n",
    "                                    x0 = param_init, #initial guess\n",
    "                                    method='L-BFGS-B',  #we want to use L-BFGS\n",
    "                                    jac=loss_PMF_grad_wrapper_cv, #function that computes the gradient\n",
    "                                    callback=save_traj_cv_pmf, #a function used to save some results for later plotting\n",
    "                                    tol=10**-10,\n",
    "                                    options={\"maxiter\":200})  #maximum number of iteration\n",
    "    final_param =traj[\"x\"]\n",
    "    film_, user_ = extract_film_and_user(final_param)\n",
    "\n",
    "    film = film_.reshape(i,df)\n",
    "    user = user_.reshape(du,i)\n",
    "\n",
    "    val_error_pmf2[i]=val_RMSE(user@film,val_matrix)\n",
    "    print(f\"R:{i} \\t \\t val_RMSE={val_RMSE(user@film,val_matrix):5.5}\")"
   ]
  },
  {
   "cell_type": "markdown",
   "id": "6175f509",
   "metadata": {},
   "source": [
    "### Plot Validation RMSE against k "
   ]
  },
  {
   "cell_type": "code",
   "execution_count": 47,
   "id": "ea948d80",
   "metadata": {},
   "outputs": [],
   "source": [
    "val_rmse_pmf2=pd.DataFrame(val_error_pmf2.values(),index=val_error_pmf2.keys()) "
   ]
  },
  {
   "cell_type": "code",
   "execution_count": 48,
   "id": "e3dd945f",
   "metadata": {},
   "outputs": [
    {
     "data": {
      "image/png": "[encoded data removed]",
      "text/plain": [
       "<Figure size 432x288 with 1 Axes>"
      ]
     },
     "metadata": {
      "needs_background": "light"
     },
     "output_type": "display_data"
    }
   ],
   "source": [
    "plt.plot(val_rmse_pmf2[0])\n",
    "plt.xticks(val_rmse_pmf2.index)\n",
    "plt.xlabel(\"Number of k features\")\n",
    "plt.ylabel(\"RMSE\")\n",
    "plt.show()"
   ]
  },
  {
   "cell_type": "markdown",
   "id": "961d02af",
   "metadata": {},
   "source": [
    "## Summary of CV"
   ]
  },
  {
   "cell_type": "code",
   "execution_count": 49,
   "id": "5c7474a5",
   "metadata": {},
   "outputs": [
    {
     "data": {
      "image/png": "[encoded data removed]",
      "text/plain": [
       "<Figure size 432x288 with 1 Axes>"
      ]
     },
     "metadata": {
      "needs_background": "light"
     },
     "output_type": "display_data"
    }
   ],
   "source": [
    "plt.plot(val_rmse_pmf[0],label=\"lambda = 0.01\")\n",
    "plt.plot(val_rmse_pmf1[0],label = \"lambda = 0.001 \")\n",
    "plt.plot(val_rmse_pmf2[0],label = \"lambda = 0.0001\")\n",
    "plt.xticks(val_rmse_pmf.index)\n",
    "plt.xlabel(\"Number of k features\")\n",
    "plt.ylabel(\"RMSE\")\n",
    "plt.legend()\n",
    "plt.show()"
   ]
  },
  {
   "cell_type": "markdown",
   "id": "4f0e1cbf",
   "metadata": {},
   "source": [
    "## Using k=4 $\\lambda{u}$ = 0.0001 and $\\lambda{v}$ = 0.0001 for Our Final Model "
   ]
  },
  {
   "cell_type": "code",
   "execution_count": 50,
   "id": "c6aa4572",
   "metadata": {},
   "outputs": [],
   "source": [
    "nu,nf=rating_matrix.shape\n",
    "R=4 #number of features k \n",
    "j=0.0001\n",
    "k=0.0001\n",
    "\n",
    "np.random.seed(1)\n",
    "\n",
    "film_ = np.random.normal(0,1, size=(R,nf)) \n",
    "user_ = np.random.normal(0,1, size=(nu,R))\n",
    "film_dimx, film_dimy = film_.shape\n",
    "user_dimx, user_dimy = user_.shape\n",
    "\n",
    "param_dim = film_dimx*film_dimy + user_dimx*user_dimy\n",
    "\n",
    "# generate a random initial parameter\n",
    "param_init = np.random.normal(0,1,size=param_dim)\n",
    "\n",
    "@jax.jit\n",
    "def extract_film_and_user(param):\n",
    "    film = param[:(film_dimx*film_dimy)]\n",
    "    user = param[(film_dimx*film_dimy):]\n",
    "    return film, user\n",
    "\n",
    "@jax.jit\n",
    "def loss_PMF(param):\n",
    "    \n",
    "    films_,users_ = extract_film_and_user(param)\n",
    "    films = films_.reshape(R,nf)\n",
    "    users = users_.reshape(nu,R)\n",
    "    \n",
    "    predicted = users @ films\n",
    "    error=(predicted-rating_matrix)[user_train_list.astype(int),film_train_list.astype(int)]\n",
    "    error_sq=error**2\n",
    "    \n",
    "    \n",
    "    return 0.5*(jnp.sum(error_sq)+j*jnp.sum(users@users.T)+k*jnp.sum(films@films.T))\n",
    "    \n",
    "\n",
    "# automatic differentiation magic here!\n",
    "loss_PMF_grad = jax.jit(jax.grad(loss_PMF))\n",
    "\n",
    "#let's create a wrapper to make sure the output is a standard numpy gradient\n",
    "def loss_PMF_grad_wrapper(param):\n",
    "    return np.array(loss_PMF_grad(param))\n",
    "\n"
   ]
  },
  {
   "cell_type": "code",
   "execution_count": 51,
   "id": "dfcfa682",
   "metadata": {},
   "outputs": [
    {
     "name": "stdout",
     "output_type": "stream",
     "text": [
      "iteration:100 \t \t loss=3.1522e+05\n",
      "iteration:200 \t \t loss=3.0878e+05\n"
     ]
    }
   ],
   "source": [
    "loss_history = []  #to save the loss trajectory\n",
    "time_history = []  #to save the compute time\n",
    "iteration_index = 0\n",
    "\n",
    "def save_traj_pmf(param):\n",
    "    \"\"\" a function that saves a few statistics for later analysis\"\"\"\n",
    "    global iteration_index\n",
    "    iteration_index += 1\n",
    "    current_loss = loss_PMF(param)\n",
    "\n",
    "    # display the loss every 100 iterations\n",
    "    if iteration_index % 100 == 0:\n",
    "        print(f\"iteration:{iteration_index} \\t \\t loss={current_loss:5.5}\")\n",
    "    \n",
    "    # record everything\n",
    "    loss_history.append(current_loss)\n",
    "    time_history.append(time.time() - start)\n",
    "\n",
    "start = time.time()\n",
    "traj = scipy.optimize.minimize(fun = loss_PMF, #function to minimize\n",
    "                                x0 = param_init, #initial guess\n",
    "                                method='L-BFGS-B',  #we want to use L-BFGS\n",
    "                                jac=loss_PMF_grad_wrapper, #function that computes the gradient\n",
    "                                callback=save_traj_pmf, #a function used to save some results for later plotting\n",
    "                                tol=10**-10,\n",
    "                                options={\"maxiter\":200})  #maximum number of iteration"
   ]
  },
  {
   "cell_type": "markdown",
   "id": "38f33b68",
   "metadata": {},
   "source": [
    "### Plot Loss History against Time History"
   ]
  },
  {
   "cell_type": "code",
   "execution_count": 52,
   "id": "5798a7d8",
   "metadata": {},
   "outputs": [
    {
     "data": {
      "text/plain": [
       "Text(0, 0.5, 'Loss History reconstruction')"
      ]
     },
     "execution_count": 52,
     "metadata": {},
     "output_type": "execute_result"
    },
    {
     "data": {
      "image/png": "[encoded data removed]",
      "text/plain": [
       "<Figure size 432x288 with 1 Axes>"
      ]
     },
     "metadata": {
      "needs_background": "light"
     },
     "output_type": "display_data"
    }
   ],
   "source": [
    "plt.plot(time_history, loss_history, \"-^\")\n",
    "plt.yscale(\"log\")\n",
    "plt.grid(True)\n",
    "plt.xlabel(\"time\", fontsize=20)\n",
    "plt.ylabel(\"Loss History reconstruction\", fontsize=20)"
   ]
  },
  {
   "cell_type": "markdown",
   "id": "abec5376",
   "metadata": {},
   "source": [
    "### Calculate Test RMSE"
   ]
  },
  {
   "cell_type": "code",
   "execution_count": 53,
   "id": "9168735c",
   "metadata": {},
   "outputs": [
    {
     "data": {
      "text/plain": [
       "DeviceArray(0.87665551, dtype=float64)"
      ]
     },
     "execution_count": 53,
     "metadata": {},
     "output_type": "execute_result"
    }
   ],
   "source": [
    "#extract final parameter found by LBFGS\n",
    "final_param =traj[\"x\"]\n",
    "film_, user_ = extract_film_and_user(final_param)\n",
    "\n",
    "film = film_.reshape(R,nf)\n",
    "user = user_.reshape(nu,R)\n",
    "\n",
    "def test_RMSE(R,A):\n",
    "    error=(A-R)[user_test_list.astype(int), film_test_list.astype(int)] #only have a subset of info\n",
    "    return jnp.sqrt(jnp.mean(error**2))\n",
    "\n",
    "test_RMSE(user@film,testing_matrix)"
   ]
  },
  {
   "cell_type": "code",
   "execution_count": 54,
   "id": "38994e92",
   "metadata": {},
   "outputs": [
    {
     "data": {
      "text/plain": [
       "(array([1.000e+00, 0.000e+00, 1.000e+00, 0.000e+00, 0.000e+00, 0.000e+00,\n",
       "        0.000e+00, 1.000e+00, 0.000e+00, 0.000e+00, 0.000e+00, 0.000e+00,\n",
       "        0.000e+00, 1.000e+00, 0.000e+00, 0.000e+00, 0.000e+00, 0.000e+00,\n",
       "        2.000e+00, 0.000e+00, 2.000e+00, 0.000e+00, 0.000e+00, 0.000e+00,\n",
       "        0.000e+00, 0.000e+00, 0.000e+00, 0.000e+00, 0.000e+00, 0.000e+00,\n",
       "        3.000e+00, 3.000e+00, 0.000e+00, 2.000e+00, 2.000e+00, 4.000e+00,\n",
       "        4.000e+00, 1.000e+01, 2.000e+00, 6.000e+00, 1.500e+01, 1.800e+01,\n",
       "        2.200e+01, 3.600e+01, 4.400e+01, 6.500e+01, 7.300e+01, 1.060e+02,\n",
       "        1.520e+02, 2.050e+02, 2.920e+02, 3.480e+02, 4.300e+02, 5.680e+02,\n",
       "        7.320e+02, 8.480e+02, 1.048e+03, 1.307e+03, 1.489e+03, 1.791e+03,\n",
       "        2.263e+03, 2.571e+03, 3.135e+03, 3.572e+03, 4.082e+03, 4.803e+03,\n",
       "        5.391e+03, 5.976e+03, 6.221e+03, 6.612e+03, 6.831e+03, 6.525e+03,\n",
       "        6.467e+03, 5.770e+03, 5.155e+03, 4.176e+03, 3.408e+03, 2.599e+03,\n",
       "        1.858e+03, 1.258e+03, 7.530e+02, 5.030e+02, 2.470e+02, 1.090e+02,\n",
       "        5.000e+01, 2.500e+01, 1.100e+01, 9.000e+00, 2.000e+00, 3.000e+00,\n",
       "        1.000e+00, 1.000e+00, 0.000e+00, 0.000e+00, 0.000e+00, 0.000e+00,\n",
       "        0.000e+00, 0.000e+00, 0.000e+00, 1.000e+00]),\n",
       " array([-4.56304567, -4.44446552, -4.32588537, -4.20730522, -4.08872506,\n",
       "        -3.97014491, -3.85156476, -3.73298461, -3.61440446, -3.49582431,\n",
       "        -3.37724415, -3.258664  , -3.14008385, -3.0215037 , -2.90292355,\n",
       "        -2.78434339, -2.66576324, -2.54718309, -2.42860294, -2.31002279,\n",
       "        -2.19144263, -2.07286248, -1.95428233, -1.83570218, -1.71712203,\n",
       "        -1.59854188, -1.47996172, -1.36138157, -1.24280142, -1.12422127,\n",
       "        -1.00564112, -0.88706096, -0.76848081, -0.64990066, -0.53132051,\n",
       "        -0.41274036, -0.2941602 , -0.17558005, -0.0569999 ,  0.06158025,\n",
       "         0.1801604 ,  0.29874055,  0.41732071,  0.53590086,  0.65448101,\n",
       "         0.77306116,  0.89164131,  1.01022147,  1.12880162,  1.24738177,\n",
       "         1.36596192,  1.48454207,  1.60312223,  1.72170238,  1.84028253,\n",
       "         1.95886268,  2.07744283,  2.19602298,  2.31460314,  2.43318329,\n",
       "         2.55176344,  2.67034359,  2.78892374,  2.9075039 ,  3.02608405,\n",
       "         3.1446642 ,  3.26324435,  3.3818245 ,  3.50040466,  3.61898481,\n",
       "         3.73756496,  3.85614511,  3.97472526,  4.09330541,  4.21188557,\n",
       "         4.33046572,  4.44904587,  4.56762602,  4.68620617,  4.80478633,\n",
       "         4.92336648,  5.04194663,  5.16052678,  5.27910693,  5.39768708,\n",
       "         5.51626724,  5.63484739,  5.75342754,  5.87200769,  5.99058784,\n",
       "         6.109168  ,  6.22774815,  6.3463283 ,  6.46490845,  6.5834886 ,\n",
       "         6.70206876,  6.82064891,  6.93922906,  7.05780921,  7.17638936,\n",
       "         7.29496951]),\n",
       " <BarContainer object of 100 artists>)"
      ]
     },
     "execution_count": 54,
     "metadata": {},
     "output_type": "execute_result"
    },
    {
     "data": {
      "image/png": "[encoded data removed]",
      "text/plain": [
       "<Figure size 432x288 with 1 Axes>"
      ]
     },
     "metadata": {
      "needs_background": "light"
     },
     "output_type": "display_data"
    }
   ],
   "source": [
    "plt.hist( (user @ film)[user_test_list.astype(int), film_test_list.astype(int)], bins=100)"
   ]
  },
  {
   "cell_type": "code",
   "execution_count": 55,
   "id": "b068b281",
   "metadata": {},
   "outputs": [],
   "source": [
    "jnp.save(\"rating_prediction_PMF_LBFGS\",user@film)"
   ]
  },
  {
   "cell_type": "code",
   "execution_count": 56,
   "id": "4c8f7ccf",
   "metadata": {},
   "outputs": [],
   "source": [
    "rating_pred=np.load(\"rating_prediction_PMF_LBFGS.npy\")"
   ]
  },
  {
   "cell_type": "code",
   "execution_count": 57,
   "id": "f15d7459",
   "metadata": {},
   "outputs": [],
   "source": [
    "for i in range(0,len(rating_pred)):\n",
    "    for j in range(0,len(rating_pred[0])):\n",
    "        if rating_pred[i][j]>5:\n",
    "            rating_pred[i][j]=5\n",
    "        elif rating_pred[i][j]<1:\n",
    "            rating_pred[i][j]=1\n",
    "        else:\n",
    "            rating_pred[i][j]=rating_pred[i][j]"
   ]
  },
  {
   "cell_type": "code",
   "execution_count": 58,
   "id": "aaaddce6",
   "metadata": {},
   "outputs": [
    {
     "data": {
      "text/plain": [
       "DeviceArray(0.87345923, dtype=float64)"
      ]
     },
     "execution_count": 58,
     "metadata": {},
     "output_type": "execute_result"
    }
   ],
   "source": [
    "test_RMSE(rating_pred,testing_matrix)"
   ]
  }
 ],
 "metadata": {
  "kernelspec": {
   "display_name": "Python 3 (ipykernel)",
   "language": "python",
   "name": "python3"
  },
  "language_info": {
   "codemirror_mode": {
    "name": "ipython",
    "version": 3
   },
   "file_extension": ".py",
   "mimetype": "text/x-python",
   "name": "python",
   "nbconvert_exporter": "python",
   "pygments_lexer": "ipython3",
   "version": "3.9.7"
  }
 },
 "nbformat": 4,
 "nbformat_minor": 5
}
